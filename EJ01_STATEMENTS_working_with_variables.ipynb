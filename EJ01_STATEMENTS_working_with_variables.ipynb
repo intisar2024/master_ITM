{
  "cells": [
    {
      "cell_type": "markdown",
      "metadata": {
        "id": "view-in-github",
        "colab_type": "text"
      },
      "source": [
        "<a href=\"https://colab.research.google.com/github/intisar2024/master_ITM/blob/main/EJ01_STATEMENTS_working_with_variables.ipynb\" target=\"_parent\"><img src=\"https://colab.research.google.com/assets/colab-badge.svg\" alt=\"Open In Colab\"/></a>"
      ]
    },
    {
      "cell_type": "markdown",
      "metadata": {
        "id": "DtDR4GSxjN9u"
      },
      "source": [
        "### Exercises to start working with variables"
      ]
    },
    {
      "cell_type": "markdown",
      "metadata": {
        "id": "hhyxjadNjN9w"
      },
      "source": [
        "Create the following variables:\n"
      ]
    },
    {
      "cell_type": "markdown",
      "metadata": {
        "id": "xK0It9r9jN9x"
      },
      "source": [
        "- integer variable value 20\n",
        "\n",
        "> Add blockquote\n",
        "\n"
      ]
    },
    {
      "cell_type": "code",
      "execution_count": null,
      "metadata": {
        "colab": {
          "base_uri": "https://localhost:8080/"
        },
        "id": "aLsCFIV_jN9x",
        "outputId": "e49f27fd-2146-4fc2-e2d5-c227e77dc3ca"
      },
      "outputs": [
        {
          "output_type": "stream",
          "name": "stdout",
          "text": [
            "20 <class 'int'>\n"
          ]
        }
      ],
      "source": [
        "street=20\n",
        "print(street,type(street))"
      ]
    },
    {
      "cell_type": "markdown",
      "metadata": {
        "id": "jZY5ocxejN9y"
      },
      "source": [
        "- string with value \"python\""
      ]
    },
    {
      "cell_type": "code",
      "execution_count": null,
      "metadata": {
        "colab": {
          "base_uri": "https://localhost:8080/"
        },
        "id": "UP0k7awojN9y",
        "outputId": "4af940ad-a0bd-4bb3-b089-045fa932f002"
      },
      "outputs": [
        {
          "output_type": "stream",
          "name": "stdout",
          "text": [
            "python <class 'str'>\n"
          ]
        }
      ],
      "source": [
        "course_name=\"python\"\n",
        "print(course_name,type(course_name))\n"
      ]
    },
    {
      "cell_type": "markdown",
      "metadata": {
        "id": "iMTM0VkrjN9z"
      },
      "source": [
        "- List containing the above 2 variables"
      ]
    },
    {
      "cell_type": "code",
      "execution_count": null,
      "metadata": {
        "colab": {
          "base_uri": "https://localhost:8080/"
        },
        "id": "6zvREtyvjN9z",
        "outputId": "961905c0-d56c-48c1-9e5b-b828934ed995"
      },
      "outputs": [
        {
          "output_type": "stream",
          "name": "stdout",
          "text": [
            "['1', '10'] <class 'list'>\n"
          ]
        }
      ],
      "source": [
        "list1=[\"1\",\"10\"]\n",
        "print(list1,type(list1))"
      ]
    },
    {
      "cell_type": "code",
      "source": [
        " list_course=['jave1' , 'python' , 'extract']\n",
        " print(list_course,type(list_course))\n",
        "\n"
      ],
      "metadata": {
        "colab": {
          "base_uri": "https://localhost:8080/"
        },
        "id": "9pmVVcmPoqHt",
        "outputId": "20187537-83a2-4f8c-bb94-f372ba63d9c6"
      },
      "execution_count": null,
      "outputs": [
        {
          "output_type": "stream",
          "name": "stdout",
          "text": [
            "['jave1', 'python', 'extract'] <class 'list'>\n"
          ]
        }
      ]
    },
    {
      "cell_type": "code",
      "source": [],
      "metadata": {
        "id": "KcDi79uXpDbc"
      },
      "execution_count": null,
      "outputs": []
    },
    {
      "cell_type": "code",
      "source": [],
      "metadata": {
        "id": "CPkZwEcZptKh"
      },
      "execution_count": null,
      "outputs": []
    }
  ],
  "metadata": {
    "kernelspec": {
      "display_name": "Python 3 (ipykernel)",
      "language": "python",
      "name": "python3"
    },
    "language_info": {
      "codemirror_mode": {
        "name": "ipython",
        "version": 3
      },
      "file_extension": ".py",
      "mimetype": "text/x-python",
      "name": "python",
      "nbconvert_exporter": "python",
      "pygments_lexer": "ipython3",
      "version": "3.10.9"
    },
    "colab": {
      "provenance": [],
      "include_colab_link": true
    }
  },
  "nbformat": 4,
  "nbformat_minor": 0
}