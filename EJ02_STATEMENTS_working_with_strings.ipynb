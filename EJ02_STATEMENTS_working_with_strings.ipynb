{
  "cells": [
    {
      "cell_type": "markdown",
      "metadata": {
        "id": "view-in-github",
        "colab_type": "text"
      },
      "source": [
        "<a href=\"https://colab.research.google.com/github/intisar2024/master_ITM/blob/main/EJ02_STATEMENTS_working_with_strings.ipynb\" target=\"_parent\"><img src=\"https://colab.research.google.com/assets/colab-badge.svg\" alt=\"Open In Colab\"/></a>"
      ]
    },
    {
      "cell_type": "markdown",
      "metadata": {
        "id": "rWrYERrbVaOn"
      },
      "source": [
        "### Exercises for working with variable strings"
      ]
    },
    {
      "cell_type": "markdown",
      "metadata": {
        "id": "Y41Q7R4oVaOp"
      },
      "source": [
        "Using this string variable:\n",
        "course = \"This is a Python course\"\n",
        "\n",
        "Get:"
      ]
    },
    {
      "cell_type": "markdown",
      "metadata": {
        "id": "x1bxmqg2VaOp"
      },
      "source": [
        "- string length"
      ]
    },
    {
      "cell_type": "code",
      "execution_count": null,
      "metadata": {
        "colab": {
          "base_uri": "https://localhost:8080/"
        },
        "id": "YI80_ySDVaOp",
        "outputId": "d9532865-5140-46f5-ccf8-26a94730245f"
      },
      "outputs": [
        {
          "output_type": "stream",
          "name": "stdout",
          "text": [
            "23\n"
          ]
        }
      ],
      "source": [
        "course=\"this is a python course\"\n",
        "course1=len(course)\n",
        "print(course1)\n",
        "\n"
      ]
    },
    {
      "cell_type": "markdown",
      "metadata": {
        "id": "ZKbgytQxVaOq"
      },
      "source": [
        "- First 4 characters"
      ]
    },
    {
      "cell_type": "code",
      "execution_count": null,
      "metadata": {
        "colab": {
          "base_uri": "https://localhost:8080/"
        },
        "id": "vuUIqbEGVaOq",
        "outputId": "6f699622-e579-4586-b7a7-18222144f666"
      },
      "outputs": [
        {
          "output_type": "stream",
          "name": "stdout",
          "text": [
            "this\n"
          ]
        }
      ],
      "source": [
        "course=\"this is a python course\"\n",
        "four_chara=course[0:4]\n",
        "print(four_chara)"
      ]
    },
    {
      "cell_type": "markdown",
      "metadata": {
        "id": "30EkQotCVaOq"
      },
      "source": [
        "- Last 6 characters"
      ]
    },
    {
      "cell_type": "code",
      "execution_count": null,
      "metadata": {
        "colab": {
          "base_uri": "https://localhost:8080/"
        },
        "id": "Ys_3eMmgVaOq",
        "outputId": "f0b7c3a4-db77-44fc-d639-06e4306dff5f"
      },
      "outputs": [
        {
          "output_type": "stream",
          "name": "stdout",
          "text": [
            "course\n"
          ]
        }
      ],
      "source": [
        "course=\"this is a python course\"\n",
        "six_chara=course[17:23]\n",
        "print(six_chara)\n",
        "\n"
      ]
    },
    {
      "cell_type": "markdown",
      "metadata": {
        "id": "daZ7pHFVVaOq"
      },
      "source": [
        "- Split the string using the white character and create a list."
      ]
    },
    {
      "cell_type": "code",
      "execution_count": null,
      "metadata": {
        "colab": {
          "base_uri": "https://localhost:8080/"
        },
        "id": "_nAvhYUPVaOr",
        "outputId": "62cf6d7e-edd1-43a9-960a-9c724b1453b7"
      },
      "outputs": [
        {
          "output_type": "stream",
          "name": "stdout",
          "text": [
            "this, is , a python , course <class 'str'>\n",
            "['this', ' is ', ' a python ', ' course'] <class 'list'>\n"
          ]
        }
      ],
      "source": [
        "course=\"this, is , a python , course\"\n",
        "print(course,type(course))\n",
        "spl_string = course.split(\",\")\n",
        "print(spl_string, type(spl_string))\n"
      ]
    },
    {
      "cell_type": "code",
      "source": [
        "course=\"this is  a python  course\"\n",
        "spl_string = course.split(\" ,\")\n",
        "print(spl_string, type(spl_string))\n"
      ],
      "metadata": {
        "colab": {
          "base_uri": "https://localhost:8080/"
        },
        "id": "01G6pt_Iu9gE",
        "outputId": "af95f178-797d-483c-87dd-d671d99f75c7"
      },
      "execution_count": null,
      "outputs": [
        {
          "output_type": "stream",
          "name": "stdout",
          "text": [
            "['this is  a python  course'] <class 'list'>\n"
          ]
        }
      ]
    },
    {
      "cell_type": "code",
      "source": [
        "course=\"this is  a python  course\"\n",
        "spl_string = course.split()\n",
        "print(spl_string, type(spl_string))\n"
      ],
      "metadata": {
        "colab": {
          "base_uri": "https://localhost:8080/"
        },
        "id": "9FcVWoQkV-aD",
        "outputId": "7eb10ee8-4be6-40bd-a009-87f36f1d1302"
      },
      "execution_count": null,
      "outputs": [
        {
          "output_type": "stream",
          "name": "stdout",
          "text": [
            "['this', 'is', 'a', 'python', 'course'] <class 'list'>\n"
          ]
        }
      ]
    },
    {
      "cell_type": "markdown",
      "source": [
        "join the list using the white character and create a string."
      ],
      "metadata": {
        "id": "AY0c5PTiWVNB"
      }
    },
    {
      "cell_type": "code",
      "source": [
        "joined_list1=\" \".join(spl_string)\n",
        "print(joined_list1)"
      ],
      "metadata": {
        "colab": {
          "base_uri": "https://localhost:8080/"
        },
        "id": "blDIQI5_Wi_3",
        "outputId": "db6933ee-42f5-4816-c54a-0a35027e886f"
      },
      "execution_count": null,
      "outputs": [
        {
          "output_type": "stream",
          "name": "stdout",
          "text": [
            "this is a python course\n"
          ]
        }
      ]
    },
    {
      "cell_type": "markdown",
      "metadata": {
        "id": "sKUwTu-YVaOr"
      },
      "source": [
        "- Create the string course2 the same as the string course, but replacing 'Phyton' with 'R'."
      ]
    },
    {
      "cell_type": "code",
      "execution_count": null,
      "metadata": {
        "colab": {
          "base_uri": "https://localhost:8080/"
        },
        "id": "YPZPfni2VaOr",
        "outputId": "6e6cd533-d63d-4ed7-e7c8-3531a295c276"
      },
      "outputs": [
        {
          "output_type": "stream",
          "name": "stdout",
          "text": [
            "this ,is , R , course <class 'str'>\n"
          ]
        }
      ],
      "source": [
        "course=\"this ,is , a python , course\"\n",
        "new_course=course.replace(\"a python\", \"R\")\n",
        "print(new_course,type(new_course))"
      ]
    },
    {
      "cell_type": "code",
      "source": [
        "course=\"this is  a python  course\"\n",
        "new_course=course.replace(\"a python\", \"R\")\n",
        "print(new_course,type(new_course))"
      ],
      "metadata": {
        "colab": {
          "base_uri": "https://localhost:8080/"
        },
        "id": "zbgtFxMWuqrO",
        "outputId": "eabd365e-51e2-46bb-a447-c989bb30ebfa"
      },
      "execution_count": null,
      "outputs": [
        {
          "output_type": "stream",
          "name": "stdout",
          "text": [
            "this is  R  course <class 'str'>\n"
          ]
        }
      ]
    },
    {
      "cell_type": "markdown",
      "source": [
        "work with listes comlex"
      ],
      "metadata": {
        "id": "tKvz_JHubeDC"
      }
    },
    {
      "cell_type": "code",
      "source": [
        "mixed_list=[\"intesar\",2024,'my work at waha']\n",
        "print(mixed_list)\n"
      ],
      "metadata": {
        "colab": {
          "base_uri": "https://localhost:8080/"
        },
        "id": "iCVux7zLblTk",
        "outputId": "7bfd0ef2-bc50-42b2-a4aa-d49a6952fc5f"
      },
      "execution_count": null,
      "outputs": [
        {
          "output_type": "stream",
          "name": "stdout",
          "text": [
            "['intesar', 2024, 'my work at waha']\n"
          ]
        }
      ]
    },
    {
      "cell_type": "markdown",
      "source": [
        "ADD LIST TO anther LIST"
      ],
      "metadata": {
        "id": "B01EOdp8cwJy"
      }
    },
    {
      "cell_type": "code",
      "source": [
        "mixed_list.append([\"i work from\",2022,\"i like my work\"])\n",
        "print(mixed_list)"
      ],
      "metadata": {
        "colab": {
          "base_uri": "https://localhost:8080/"
        },
        "id": "cJ7TbQmjc2_a",
        "outputId": "5ebce1a1-f168-4062-aaec-562bdb5c79ca"
      },
      "execution_count": null,
      "outputs": [
        {
          "output_type": "stream",
          "name": "stdout",
          "text": [
            "['intesar', 2024, 'my work at waha', ['i work from', 2022, 'i like my work']]\n"
          ]
        }
      ]
    },
    {
      "cell_type": "code",
      "source": [],
      "metadata": {
        "id": "p1cGwsVrqOp3"
      },
      "execution_count": null,
      "outputs": []
    }
  ],
  "metadata": {
    "kernelspec": {
      "display_name": "Python 3 (ipykernel)",
      "language": "python",
      "name": "python3"
    },
    "language_info": {
      "codemirror_mode": {
        "name": "ipython",
        "version": 3
      },
      "file_extension": ".py",
      "mimetype": "text/x-python",
      "name": "python",
      "nbconvert_exporter": "python",
      "pygments_lexer": "ipython3",
      "version": "3.10.9"
    },
    "colab": {
      "provenance": [],
      "include_colab_link": true
    }
  },
  "nbformat": 4,
  "nbformat_minor": 0
}