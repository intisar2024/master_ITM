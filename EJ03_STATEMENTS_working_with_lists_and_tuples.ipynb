{
  "cells": [
    {
      "cell_type": "markdown",
      "metadata": {
        "id": "view-in-github",
        "colab_type": "text"
      },
      "source": [
        "<a href=\"https://colab.research.google.com/github/intisar2024/master_ITM/blob/main/EJ03_STATEMENTS_working_with_lists_and_tuples.ipynb\" target=\"_parent\"><img src=\"https://colab.research.google.com/assets/colab-badge.svg\" alt=\"Open In Colab\"/></a>"
      ]
    },
    {
      "cell_type": "markdown",
      "metadata": {
        "id": "I5_wHjq6ek3b"
      },
      "source": [
        "### Exercises with lists and tuples"
      ]
    },
    {
      "cell_type": "markdown",
      "metadata": {
        "id": "_AqjepoBek3d"
      },
      "source": [
        "Create a __list__ with the following 4 elements: 11,4,7,5,10"
      ]
    },
    {
      "cell_type": "code",
      "execution_count": null,
      "metadata": {
        "colab": {
          "base_uri": "https://localhost:8080/"
        },
        "id": "asgELxdyek3e",
        "outputId": "c9afef3d-5bfc-497f-d245-17cac8e71810"
      },
      "outputs": [
        {
          "output_type": "stream",
          "name": "stdout",
          "text": [
            "[11, 4, 7, 5, 10]\n"
          ]
        }
      ],
      "source": [
        "list=[11,4,7,5,10]\n",
        "print(list)"
      ]
    },
    {
      "cell_type": "markdown",
      "metadata": {
        "id": "cniwimu1ek3f"
      },
      "source": [
        "- Create a variable as a result of the sum of the first 2 elements"
      ]
    },
    {
      "cell_type": "code",
      "execution_count": null,
      "metadata": {
        "colab": {
          "base_uri": "https://localhost:8080/"
        },
        "id": "Ep7BR5TIek3f",
        "outputId": "54b4f184-d59e-4c51-ebc0-992e5e849b3d"
      },
      "outputs": [
        {
          "output_type": "stream",
          "name": "stdout",
          "text": [
            "15\n"
          ]
        }
      ],
      "source": [
        "print(list[0]+list[1])"
      ]
    },
    {
      "cell_type": "code",
      "source": [],
      "metadata": {
        "id": "2HIHSV1hhlHh"
      },
      "execution_count": null,
      "outputs": []
    },
    {
      "cell_type": "markdown",
      "metadata": {
        "id": "xFGfp5Vzek3f"
      },
      "source": [
        "- Create a list containing the first and last element"
      ]
    },
    {
      "cell_type": "code",
      "execution_count": null,
      "metadata": {
        "colab": {
          "base_uri": "https://localhost:8080/"
        },
        "id": "1WvwbNadek3g",
        "outputId": "9bebda10-1c4c-4982-b456-77e31f1d31ea"
      },
      "outputs": [
        {
          "output_type": "stream",
          "name": "stdout",
          "text": [
            "11 10\n"
          ]
        }
      ],
      "source": [
        "print(list[0],list[4])"
      ]
    },
    {
      "cell_type": "code",
      "source": [
        "print(list[-2],list[-1])"
      ],
      "metadata": {
        "colab": {
          "base_uri": "https://localhost:8080/"
        },
        "id": "t-x7tTq5iffs",
        "outputId": "f17bd605-0f73-4e76-ff63-085d8f8cb2a6"
      },
      "execution_count": null,
      "outputs": [
        {
          "output_type": "stream",
          "name": "stdout",
          "text": [
            "5 10\n"
          ]
        }
      ]
    },
    {
      "cell_type": "markdown",
      "metadata": {
        "id": "kSoPBu0Iek3g"
      },
      "source": [
        "- Add at the end the value: 15"
      ]
    },
    {
      "cell_type": "code",
      "execution_count": null,
      "metadata": {
        "colab": {
          "base_uri": "https://localhost:8080/"
        },
        "id": "Y5RUlCZqek3g",
        "outputId": "67505821-d119-475d-87f4-73a5f698afb5"
      },
      "outputs": [
        {
          "output_type": "stream",
          "name": "stdout",
          "text": [
            "[11, 4, 7, 5, 10, 15]\n"
          ]
        }
      ],
      "source": [
        "list=[11,4,7,5,10]\n",
        "list.append(15)\n",
        "list\n",
        "print(list)\n"
      ]
    },
    {
      "cell_type": "markdown",
      "metadata": {
        "id": "sRy6U4Kcek3g"
      },
      "source": [
        "- Sort list in ascending and descending order"
      ]
    },
    {
      "cell_type": "code",
      "execution_count": null,
      "metadata": {
        "colab": {
          "base_uri": "https://localhost:8080/"
        },
        "id": "dJkrUfatek3h",
        "outputId": "15ed2124-46db-4914-c78f-50f06ac63702"
      },
      "outputs": [
        {
          "output_type": "stream",
          "name": "stdout",
          "text": [
            "[4, 5, 7, 10, 11, 15]\n"
          ]
        }
      ],
      "source": [
        "list=[11,4,7,5,10,15]\n",
        "list.sort()\n",
        "print(list)"
      ]
    },
    {
      "cell_type": "code",
      "source": [
        "list=[11,4,7,5,10,15]\n",
        "list.reverse()\n"
      ],
      "metadata": {
        "colab": {
          "base_uri": "https://localhost:8080/"
        },
        "id": "Gopj5tqhnPsh",
        "outputId": "5d7d8746-2e93-4308-c5f7-619cf9bc4daa"
      },
      "execution_count": null,
      "outputs": [
        {
          "output_type": "stream",
          "name": "stdout",
          "text": [
            "[15, 10, 5, 7, 4, 11]\n"
          ]
        }
      ]
    },
    {
      "cell_type": "code",
      "source": [],
      "metadata": {
        "colab": {
          "base_uri": "https://localhost:8080/",
          "height": 106
        },
        "id": "Qz5_MXApoMnO",
        "outputId": "60330d1f-efd0-4b48-f944-5a1c2bb8efa0"
      },
      "execution_count": null,
      "outputs": [
        {
          "output_type": "error",
          "ename": "SyntaxError",
          "evalue": "expression cannot contain assignment, perhaps you meant \"==\"? (<ipython-input-19-c916fa947a35>, line 1)",
          "traceback": [
            "\u001b[0;36m  File \u001b[0;32m\"<ipython-input-19-c916fa947a35>\"\u001b[0;36m, line \u001b[0;32m1\u001b[0m\n\u001b[0;31m    print(list.reverse()=list.sort())\u001b[0m\n\u001b[0m          ^\u001b[0m\n\u001b[0;31mSyntaxError\u001b[0m\u001b[0;31m:\u001b[0m expression cannot contain assignment, perhaps you meant \"==\"?\n"
          ]
        }
      ]
    },
    {
      "cell_type": "markdown",
      "metadata": {
        "id": "KzO-1hMsek3h"
      },
      "source": [
        "- Create a set variable from the list"
      ]
    },
    {
      "cell_type": "code",
      "execution_count": null,
      "metadata": {
        "colab": {
          "base_uri": "https://localhost:8080/"
        },
        "id": "OaKgyjyLek3h",
        "outputId": "f81fe2eb-73d1-4c0f-cc4d-14ce784dc54d"
      },
      "outputs": [
        {
          "output_type": "stream",
          "name": "stdout",
          "text": [
            "{4, 5, 7, 10, 11, 15}\n"
          ]
        }
      ],
      "source": [
        "list=[11,4,7,5,10,15,5]\n",
        "list1=set(list)\n",
        "print(list1)\n"
      ]
    },
    {
      "cell_type": "code",
      "source": [
        "A1=(1,1,2,2,3,3,4,4,15)\n",
        "A2=set(A1)\n",
        "print(A2)\n",
        "type(A1)\n",
        "type(A1)\n"
      ],
      "metadata": {
        "colab": {
          "base_uri": "https://localhost:8080/"
        },
        "id": "iB4zaDD-tt_p",
        "outputId": "5346ee7d-3cd4-4689-dcd3-138fa8c5918f"
      },
      "execution_count": null,
      "outputs": [
        {
          "output_type": "stream",
          "name": "stdout",
          "text": [
            "{1, 2, 3, 4, 15}\n"
          ]
        },
        {
          "output_type": "execute_result",
          "data": {
            "text/plain": [
              "tuple"
            ]
          },
          "metadata": {},
          "execution_count": 32
        }
      ]
    },
    {
      "cell_type": "code",
      "source": [],
      "metadata": {
        "id": "xLxbVB2ePvW9"
      },
      "execution_count": null,
      "outputs": []
    },
    {
      "cell_type": "markdown",
      "metadata": {
        "id": "lBsHYurYek3i"
      },
      "source": [
        "Define a __list__ containing 2 sublists: ['a','b','c'] and [1,2,3]."
      ]
    },
    {
      "cell_type": "code",
      "execution_count": null,
      "metadata": {
        "id": "QDaHFB2Bek3i",
        "colab": {
          "base_uri": "https://localhost:8080/"
        },
        "outputId": "09d455a9-132d-4a24-bab1-436e5896c671"
      },
      "outputs": [
        {
          "output_type": "stream",
          "name": "stdout",
          "text": [
            "[11, 4, 7, 5, 10] ['a', 'b', 'c'] [1, 2, 3]\n",
            "[11, 4, 7, 5, 10, 'a', 'b', 'c', 1, 2, 3] <class 'list'>\n"
          ]
        }
      ],
      "source": [
        "list=[11,4,7,5,10]\n",
        "sub1=['a','b','c']\n",
        "sub2= [1,2,3]\n",
        "list1=list+sub1+sub2\n",
        "print(list,sub1,sub2)\n",
        "print(list1,type(list1))"
      ]
    },
    {
      "cell_type": "code",
      "source": [
        "list=[['a','b','c'],[1,2,3]]\n",
        "list1=list[:]\n",
        "print(list1)"
      ],
      "metadata": {
        "colab": {
          "base_uri": "https://localhost:8080/"
        },
        "id": "7VCIp9ymU780",
        "outputId": "4d18b2e7-f785-4405-e5fc-5f0e675a1d79"
      },
      "execution_count": null,
      "outputs": [
        {
          "output_type": "stream",
          "name": "stdout",
          "text": [
            "[['a', 'b', 'c'], [1, 2, 3]]\n"
          ]
        }
      ]
    },
    {
      "cell_type": "markdown",
      "metadata": {
        "id": "ASpgTA01ek3i"
      },
      "source": [
        "- Create a new list with the elements of the first sublist"
      ]
    },
    {
      "cell_type": "code",
      "execution_count": null,
      "metadata": {
        "id": "sC2gNLIAek3i",
        "colab": {
          "base_uri": "https://localhost:8080/"
        },
        "outputId": "0d667867-1c43-4323-bacd-5fa1828b99b9"
      },
      "outputs": [
        {
          "output_type": "stream",
          "name": "stdout",
          "text": [
            "['a', 'b', 'c']\n"
          ]
        }
      ],
      "source": [
        "print(list1[5:8])"
      ]
    },
    {
      "cell_type": "markdown",
      "metadata": {
        "id": "VZtYGULWek3i"
      },
      "source": [
        "- Create a variable with the value of the first element of the first sublist"
      ]
    },
    {
      "cell_type": "code",
      "execution_count": null,
      "metadata": {
        "id": "rYi3AcVmek3j",
        "colab": {
          "base_uri": "https://localhost:8080/"
        },
        "outputId": "bf0a0392-c5b6-4713-ee8f-fc2421c10c84"
      },
      "outputs": [
        {
          "output_type": "stream",
          "name": "stdout",
          "text": [
            "['a']\n"
          ]
        }
      ],
      "source": [
        "sub1=['a','b','c']\n",
        "AA=sub1[0:1]\n",
        "print(AA)\n"
      ]
    },
    {
      "cell_type": "code",
      "source": [
        "list=[['a','b','c'],[1,2,3]]\n",
        "list1=list[0][0]\n",
        "print(list1)\n"
      ],
      "metadata": {
        "colab": {
          "base_uri": "https://localhost:8080/"
        },
        "id": "7y5N8YC3asoA",
        "outputId": "ae371d56-467a-4123-89df-8c5ecd18c882"
      },
      "execution_count": null,
      "outputs": [
        {
          "output_type": "stream",
          "name": "stdout",
          "text": [
            "a\n"
          ]
        }
      ]
    },
    {
      "cell_type": "markdown",
      "metadata": {
        "id": "j_hCs33jek3j"
      },
      "source": [
        "- Create a variable with the value of the last element of the second sublist"
      ]
    },
    {
      "cell_type": "code",
      "execution_count": null,
      "metadata": {
        "id": "4mgGGUSOek3j",
        "colab": {
          "base_uri": "https://localhost:8080/"
        },
        "outputId": "fe2c92cc-f974-4046-a5c9-51ae9e21b93c"
      },
      "outputs": [
        {
          "output_type": "stream",
          "name": "stdout",
          "text": [
            "3\n"
          ]
        }
      ],
      "source": [
        "list=[['a','b','c'],[1,2,3]]\n",
        "list1=list[1][2]\n",
        "print(list1)\n"
      ]
    },
    {
      "cell_type": "markdown",
      "metadata": {
        "id": "UeF-mV5tek3j"
      },
      "source": [
        "- Sum all the elements of the second sublist"
      ]
    },
    {
      "cell_type": "code",
      "source": [
        "list=[['a','b','c'],[1,2,3]]\n",
        "print(list[1:0]+list[1:1]+list[1:2])\n"
      ],
      "metadata": {
        "colab": {
          "base_uri": "https://localhost:8080/"
        },
        "id": "NiU6jm3ciEwd",
        "outputId": "87c02197-463a-44ac-a35d-b6003e236634"
      },
      "execution_count": null,
      "outputs": [
        {
          "output_type": "stream",
          "name": "stdout",
          "text": [
            "[[1, 2, 3]]\n"
          ]
        }
      ]
    },
    {
      "cell_type": "code",
      "execution_count": null,
      "metadata": {
        "id": "IOcpJ271ek3k",
        "colab": {
          "base_uri": "https://localhost:8080/"
        },
        "outputId": "cca07adb-6cbd-410b-a5dc-b603f5831a28"
      },
      "outputs": [
        {
          "output_type": "stream",
          "name": "stdout",
          "text": [
            "['a', 'b', 'c', 1, 2, 3]\n"
          ]
        }
      ],
      "source": [
        "list=[['a','b','c'],[1,2,3]]\n",
        "print(list[0]+list[1])"
      ]
    },
    {
      "cell_type": "markdown",
      "metadata": {
        "id": "7RlDdb5vek3k"
      },
      "source": [
        "Create a __tuple__ having as elements three lists: ['a','b','c'], [1,2,3], [2.5,3.44,4.76]."
      ]
    },
    {
      "cell_type": "code",
      "execution_count": null,
      "metadata": {
        "id": "1Nxpj_v0ek3k",
        "colab": {
          "base_uri": "https://localhost:8080/"
        },
        "outputId": "969374e2-00ed-4611-89a1-57314c2907ce"
      },
      "outputs": [
        {
          "output_type": "stream",
          "name": "stdout",
          "text": [
            "['a', 'b', 'c', 1, 2, 3, 2.5, 3.44, 4.76] <class 'tuple'>\n"
          ]
        }
      ],
      "source": [
        "list= (['a','b','c'], [1,2,3], [2.5,3.44,4.76])\n",
        "print(list[0]+list[1]+list[2],type(list))\n"
      ]
    },
    {
      "cell_type": "markdown",
      "metadata": {
        "id": "zNx4Pdimek3k"
      },
      "source": [
        "- Accessing the first element of the tuple"
      ]
    },
    {
      "cell_type": "code",
      "execution_count": null,
      "metadata": {
        "id": "XNVk3Y3Tek3k",
        "colab": {
          "base_uri": "https://localhost:8080/"
        },
        "outputId": "280817a3-d931-4fd3-d506-e84d3df405bb"
      },
      "outputs": [
        {
          "output_type": "stream",
          "name": "stdout",
          "text": [
            "a\n"
          ]
        }
      ],
      "source": [
        "list=['a', 'b', 'c', 1, 2, 3, 2.5, 3.44, 4.76]\n",
        "print(list[0])"
      ]
    },
    {
      "cell_type": "markdown",
      "metadata": {
        "id": "4WEh-gxpek3k"
      },
      "source": [
        "- Access the second value (list) of the first element of the tuple"
      ]
    },
    {
      "cell_type": "code",
      "execution_count": null,
      "metadata": {
        "id": "9mvQh1MHek3l",
        "colab": {
          "base_uri": "https://localhost:8080/"
        },
        "outputId": "65f3d55f-c539-4dfb-f8a9-d80cbbe8bce9"
      },
      "outputs": [
        {
          "output_type": "stream",
          "name": "stdout",
          "text": [
            "b <class 'tuple'> 96\n"
          ]
        }
      ],
      "source": [
        "tuple=('a', 'b', 'c', 1, 2, 3, 2.5, 3.44, 4.76)\n",
        "h=tuple.__sizeof__()\n",
        "print(tuple[1],type(list),h)"
      ]
    },
    {
      "cell_type": "markdown",
      "metadata": {
        "id": "3wMTCjsMek3l"
      },
      "source": [
        "- Sum all values of the last element of the tuple"
      ]
    },
    {
      "cell_type": "code",
      "execution_count": null,
      "metadata": {
        "id": "56kIVaX9ek3l",
        "colab": {
          "base_uri": "https://localhost:8080/"
        },
        "outputId": "073d8604-90c1-42b9-f329-95db131f16b1"
      },
      "outputs": [
        {
          "output_type": "stream",
          "name": "stdout",
          "text": [
            "96\n"
          ]
        }
      ],
      "source": [
        "tuple=('a', 'b', 'c', 1, 2, 3, 2.5, 3.44, 4.76)\n",
        "h=tuple.__sizeof__()\n",
        "print(h)"
      ]
    }
  ],
  "metadata": {
    "kernelspec": {
      "display_name": "Python 3 (ipykernel)",
      "language": "python",
      "name": "python3"
    },
    "language_info": {
      "codemirror_mode": {
        "name": "ipython",
        "version": 3
      },
      "file_extension": ".py",
      "mimetype": "text/x-python",
      "name": "python",
      "nbconvert_exporter": "python",
      "pygments_lexer": "ipython3",
      "version": "3.10.9"
    },
    "colab": {
      "provenance": [],
      "include_colab_link": true
    }
  },
  "nbformat": 4,
  "nbformat_minor": 0
}