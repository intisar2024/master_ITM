{
  "cells": [
    {
      "cell_type": "markdown",
      "metadata": {
        "id": "view-in-github",
        "colab_type": "text"
      },
      "source": [
        "<a href=\"https://colab.research.google.com/github/intisar2024/master_ITM/blob/main/P04_lists_tuples_set.ipynb\" target=\"_parent\"><img src=\"https://colab.research.google.com/assets/colab-badge.svg\" alt=\"Open In Colab\"/></a>"
      ]
    },
    {
      "cell_type": "markdown",
      "metadata": {
        "id": "2d5po4FMH8UO"
      },
      "source": [
        "### Working with collections: lists, tuples and sets"
      ]
    },
    {
      "cell_type": "markdown",
      "metadata": {
        "id": "XNhuAZzAH8UR"
      },
      "source": [
        "### Lists"
      ]
    },
    {
      "cell_type": "markdown",
      "metadata": {
        "id": "HX7BKXZZH8UR"
      },
      "source": [
        "Creation of __list__ with elements of different types"
      ]
    },
    {
      "cell_type": "code",
      "execution_count": null,
      "metadata": {
        "id": "SV-sm6QgH8US",
        "outputId": "5cfb1833-14d6-4f0e-ca48-c7a026a16d97"
      },
      "outputs": [
        {
          "data": {
            "text/plain": [
              "(list, [1, 'Madrid', 4.67, True], 1, int, str, float, bool)"
            ]
          },
          "execution_count": 2,
          "metadata": {},
          "output_type": "execute_result"
        }
      ],
      "source": [
        "list1 = [1, \"Madrid\", 4.67, True]\n",
        "a,b,c,d = list1\n",
        "numelem = len(list1)\n",
        "type(list1), list1, a, type(a), type(b), type(c), type(d)"
      ]
    },
    {
      "cell_type": "code",
      "execution_count": null,
      "metadata": {
        "scrolled": true,
        "id": "0TACe5LnH8UU",
        "outputId": "b3a01b8d-e832-40e7-8281-cb1246b0c707"
      },
      "outputs": [
        {
          "data": {
            "text/plain": [
              "bool"
            ]
          },
          "execution_count": 3,
          "metadata": {},
          "output_type": "execute_result"
        }
      ],
      "source": [
        "type(list1[-1])"
      ]
    },
    {
      "cell_type": "markdown",
      "metadata": {
        "id": "FfrBRK42H8UV"
      },
      "source": [
        "validate if an item is in a list"
      ]
    },
    {
      "cell_type": "code",
      "execution_count": null,
      "metadata": {
        "id": "9WCyo7Z2H8UV",
        "outputId": "25e1b933-a82d-4f16-aeca-607904624d1c"
      },
      "outputs": [
        {
          "data": {
            "text/plain": [
              "False"
            ]
          },
          "execution_count": 4,
          "metadata": {},
          "output_type": "execute_result"
        }
      ],
      "source": [
        "\"1\" in list1"
      ]
    },
    {
      "cell_type": "markdown",
      "metadata": {
        "id": "eG98ddCBH8UW"
      },
      "source": [
        "Get __elements__ from a list by positions"
      ]
    },
    {
      "cell_type": "code",
      "execution_count": null,
      "metadata": {
        "id": "eMhEAOH3H8UW",
        "outputId": "bb6fd5a3-a5b2-4dc9-8b7f-e011d033274a"
      },
      "outputs": [
        {
          "data": {
            "text/plain": [
              "(1, [1, 'Madrid'], list, 1, 'Madrid', True)"
            ]
          },
          "execution_count": 5,
          "metadata": {},
          "output_type": "execute_result"
        }
      ],
      "source": [
        "elem1 = list1[0] # first element\n",
        "list2 = list1[0:2]  # from 0 to 2 (not counting 2)\n",
        "a, b = list1[0:2]\n",
        "elem2 = list1[-1]   # last element\n",
        "elem1, list2,type(list2),a,b, elem2"
      ]
    },
    {
      "cell_type": "code",
      "execution_count": null,
      "metadata": {
        "id": "gXwEoXrvH8UW",
        "outputId": "081f69b6-d763-40f0-d70a-f09101e7cd50"
      },
      "outputs": [
        {
          "data": {
            "text/plain": [
              "[1, 'Madrid', 4.67, True]"
            ]
          },
          "execution_count": 6,
          "metadata": {},
          "output_type": "execute_result"
        }
      ],
      "source": [
        "list1[0:len(list1)]"
      ]
    },
    {
      "cell_type": "markdown",
      "metadata": {
        "id": "nKsopyquH8UX"
      },
      "source": [
        "__Slicing__"
      ]
    },
    {
      "cell_type": "code",
      "execution_count": null,
      "metadata": {
        "id": "ZjITObo0H8UX",
        "outputId": "cc78eecd-de87-4f65-c8b9-550de6c82826"
      },
      "outputs": [
        {
          "data": {
            "text/plain": [
              "([1, 'Madrid', 4.67, True], [1, 'Madrid', 4.67, True], [4.67, True], list)"
            ]
          },
          "execution_count": 7,
          "metadata": {},
          "output_type": "execute_result"
        }
      ],
      "source": [
        "list3 = list1[:]  # complete list\n",
        "list4 = list1[:4]  # from start to position 4 (not counting 4)\n",
        "list5 = list1[2:]  # from pos 2 to the end\n",
        "list3, list4, list5, type(list5)"
      ]
    },
    {
      "cell_type": "code",
      "execution_count": null,
      "metadata": {
        "id": "k9mjWXwwH8UY",
        "outputId": "dd70215c-2704-43a2-d6c6-0724e1207ac0"
      },
      "outputs": [
        {
          "data": {
            "text/plain": [
              "[1, 'Madrid', 4.67, True]"
            ]
          },
          "execution_count": 8,
          "metadata": {},
          "output_type": "execute_result"
        }
      ],
      "source": [
        "list1 = [1, \"Madrid\", 4.67, True]\n",
        "list1"
      ]
    },
    {
      "cell_type": "markdown",
      "metadata": {
        "id": "qHLW0cW2H8UY"
      },
      "source": [
        "from a list to several variables"
      ]
    },
    {
      "cell_type": "code",
      "execution_count": null,
      "metadata": {
        "id": "EqS3RvMAH8UY",
        "outputId": "839138ac-59fc-44e7-d30f-c51b492bd16a"
      },
      "outputs": [
        {
          "data": {
            "text/plain": [
              "[1, 'Madrid', 4.67, True]"
            ]
          },
          "execution_count": 8,
          "metadata": {},
          "output_type": "execute_result"
        }
      ],
      "source": [
        "list1"
      ]
    },
    {
      "cell_type": "code",
      "execution_count": null,
      "metadata": {
        "id": "hj3wwuLxH8UZ"
      },
      "outputs": [],
      "source": [
        "var1, var2, var3, var4 = list1"
      ]
    },
    {
      "cell_type": "code",
      "execution_count": null,
      "metadata": {
        "id": "25hxX8JIH8UZ",
        "outputId": "71b2b82b-fa1a-4a97-e039-67f1017bff4c"
      },
      "outputs": [
        {
          "data": {
            "text/plain": [
              "(1, 'Madrid', [4.67, True])"
            ]
          },
          "execution_count": 10,
          "metadata": {},
          "output_type": "execute_result"
        }
      ],
      "source": [
        "var1, var2, *var3 = list1\n",
        "var1, var2, var3"
      ]
    },
    {
      "cell_type": "code",
      "execution_count": null,
      "metadata": {
        "id": "HHoy__NcH8Ua",
        "outputId": "9c670483-4451-4bbf-9771-bad14c033088"
      },
      "outputs": [
        {
          "data": {
            "text/plain": [
              "[3, 'Madrid', 4.67, True]"
            ]
          },
          "execution_count": 11,
          "metadata": {},
          "output_type": "execute_result"
        }
      ],
      "source": [
        "list1[0] =3\n",
        "list1"
      ]
    },
    {
      "cell_type": "code",
      "execution_count": null,
      "metadata": {
        "id": "GAGULZriH8Ua",
        "outputId": "fbe6c9ce-750b-40cf-92d4-6a376d9c07e4"
      },
      "outputs": [
        {
          "data": {
            "text/plain": [
              "[3, 'Madrid', 8, 9, 4.67, True]"
            ]
          },
          "execution_count": 12,
          "metadata": {},
          "output_type": "execute_result"
        }
      ],
      "source": [
        "list1[2:2] = [8,9]\n",
        "list1"
      ]
    },
    {
      "cell_type": "code",
      "execution_count": null,
      "metadata": {
        "id": "zkMcGNx6H8Ub"
      },
      "outputs": [],
      "source": [
        "list1 = [3,3,4,5,6,2,1,9]"
      ]
    },
    {
      "cell_type": "code",
      "execution_count": null,
      "metadata": {
        "id": "BQhySeFhH8Ub",
        "outputId": "d15a6eb2-860f-4bb4-9593-0ab783020b53"
      },
      "outputs": [
        {
          "data": {
            "text/plain": [
              "[1, 2, 3, 3, 4, 5, 6, 9]"
            ]
          },
          "execution_count": 14,
          "metadata": {},
          "output_type": "execute_result"
        }
      ],
      "source": [
        "list1.sort()\n",
        "list1"
      ]
    },
    {
      "cell_type": "markdown",
      "metadata": {
        "id": "K0-WvdVTH8Ub"
      },
      "source": [
        "__sort__ is a list-only method and __sorted__ is a function for any iterable."
      ]
    },
    {
      "cell_type": "code",
      "execution_count": null,
      "metadata": {
        "id": "JQ9yBX29H8Ub",
        "outputId": "2b0b5cd9-1e05-429a-a465-f85bf643d415"
      },
      "outputs": [
        {
          "data": {
            "text/plain": [
              "[1, 2, 3, 3, 4, 5, 6, 9]"
            ]
          },
          "execution_count": 15,
          "metadata": {},
          "output_type": "execute_result"
        }
      ],
      "source": [
        "sorted(list1)\n",
        "list1"
      ]
    },
    {
      "cell_type": "code",
      "execution_count": null,
      "metadata": {
        "id": "V8PTVEdnH8Uc",
        "outputId": "5e520777-1b01-42f7-8254-496bc6109cef"
      },
      "outputs": [
        {
          "data": {
            "text/plain": [
              "['z', 'c', 'b']"
            ]
          },
          "execution_count": 16,
          "metadata": {},
          "output_type": "execute_result"
        }
      ],
      "source": [
        "list2 = ['z','b','c']\n",
        "list2.sort(reverse = True)\n",
        "list2"
      ]
    },
    {
      "cell_type": "code",
      "source": [
        "list2 = ['z','b','c']\n",
        "list2.sort()\n",
        "list2"
      ],
      "metadata": {
        "colab": {
          "base_uri": "https://localhost:8080/"
        },
        "id": "w3Iw6cdvLMsN",
        "outputId": "8d12595c-1c10-46c7-afa3-2ed51a9f4f4f"
      },
      "execution_count": null,
      "outputs": [
        {
          "output_type": "execute_result",
          "data": {
            "text/plain": [
              "['b', 'c', 'z']"
            ]
          },
          "metadata": {},
          "execution_count": 1
        }
      ]
    },
    {
      "cell_type": "code",
      "execution_count": null,
      "metadata": {
        "id": "vonQHKCiH8Uc",
        "outputId": "c97fdb01-a6db-434a-8277-7acf90cc57aa"
      },
      "outputs": [
        {
          "data": {
            "text/plain": [
              "[1, 2, 3, 4, 4, 4]"
            ]
          },
          "execution_count": 17,
          "metadata": {},
          "output_type": "execute_result"
        }
      ],
      "source": [
        "list3 = [1,2,3,4,4,4]\n",
        "list3"
      ]
    },
    {
      "cell_type": "markdown",
      "metadata": {
        "id": "Vfwnk7HHH8Uc"
      },
      "source": [
        "Insert __items__ in the list"
      ]
    },
    {
      "cell_type": "code",
      "execution_count": null,
      "metadata": {
        "id": "jWeicNeYH8Uc",
        "outputId": "930714b3-d814-490f-8960-da93a2287460"
      },
      "outputs": [
        {
          "data": {
            "text/plain": [
              "['5', 2, 8, 10, 'hello', 3, 3, 4, 5, 6, 9]"
            ]
          },
          "execution_count": 18,
          "metadata": {},
          "output_type": "execute_result"
        }
      ],
      "source": [
        "list1[0] = \"5\"  # I can make item assignments, they are mutable.\n",
        "list1[2:1] = [8]   # insert 8 in position 3 (index 2)\n",
        "list1[3:2] = [10,'hello'] # insert 10, \"hello\" starting from position 4 (index 3)\n",
        "list1"
      ]
    },
    {
      "cell_type": "markdown",
      "metadata": {
        "id": "OmDS1KdnH8Ud"
      },
      "source": [
        "Methods for __inserting__ and __deleting__ items in lists"
      ]
    },
    {
      "cell_type": "code",
      "execution_count": null,
      "metadata": {
        "id": "U7NxjeDbH8Ud",
        "outputId": "3f258dc2-ca86-4aa2-dcb0-08faf9fecdaa"
      },
      "outputs": [
        {
          "data": {
            "text/plain": [
              "['5', 2, 8, 10, 'hello', 3, 3, 4, 5, 6, 9]"
            ]
          },
          "execution_count": 19,
          "metadata": {},
          "output_type": "execute_result"
        }
      ],
      "source": [
        "list1"
      ]
    },
    {
      "cell_type": "code",
      "execution_count": null,
      "metadata": {
        "id": "4PIc14r9H8Ud",
        "outputId": "6282c736-ead2-4652-ed31-ca9de0aec81e"
      },
      "outputs": [
        {
          "data": {
            "text/plain": [
              "[10, 3, 3, 4, 5, 6, 9]"
            ]
          },
          "execution_count": 22,
          "metadata": {},
          "output_type": "execute_result"
        }
      ],
      "source": [
        "#del lista1[0]\n",
        "res = list1.pop(0)\n",
        "list1.remove(\"hello\")\n",
        "list1"
      ]
    },
    {
      "cell_type": "code",
      "source": [
        "list1=['5', 2, 8, 10, 'hello', 3, 3, 4, 5, 6, 9]\n",
        "res=list1.pop(0)\n",
        "res=list1.pop(4)\n",
        "print(list1)"
      ],
      "metadata": {
        "colab": {
          "base_uri": "https://localhost:8080/"
        },
        "id": "dPQztPkfNWbU",
        "outputId": "6812af2c-d479-4118-cead-aacf3317e126"
      },
      "execution_count": null,
      "outputs": [
        {
          "output_type": "stream",
          "name": "stdout",
          "text": [
            "[2, 8, 10, 'hello', 3, 4, 5, 6, 9]\n"
          ]
        }
      ]
    },
    {
      "cell_type": "code",
      "execution_count": null,
      "metadata": {
        "id": "Femrnk_iH8Ue",
        "outputId": "5bf720da-fcd5-416c-ea55-3a0aad697330"
      },
      "outputs": [
        {
          "data": {
            "text/plain": [
              "[10, 3, 3, 4, 5, 6, 9]"
            ]
          },
          "execution_count": 23,
          "metadata": {},
          "output_type": "execute_result"
        }
      ],
      "source": [
        "list1"
      ]
    },
    {
      "cell_type": "code",
      "execution_count": null,
      "metadata": {
        "id": "gPkVrwP7H8Ue",
        "outputId": "c9158165-75bd-40c8-cc70-350076f00d81"
      },
      "outputs": [
        {
          "data": {
            "text/plain": [
              "[3, 3, 4, 100, 5, 'ZZ', 'n1', 'n2', 'n3', ['n1', 'n2', 'n3']]"
            ]
          },
          "execution_count": 58,
          "metadata": {},
          "output_type": "execute_result"
        }
      ],
      "source": [
        "# remove last item from list\n",
        "#list1.pop()\n",
        "\n",
        "# delete by index\n",
        "#list1.pop(3)\n",
        "\n",
        "# add items to the end of the list\n",
        "#list1.append(\"ZZ\")\n",
        "\n",
        "# adds the items of the sublist to the main list\n",
        "#list1.extend([\"n1\", \"n2\", \"n3\"])\n",
        "\n",
        "list1.append([\"n1\", \"n2\", \"n3\"])\n",
        "\n",
        "# Insert the value 100 in position 5\n",
        "#list1.insert(3,100)\n",
        "\n",
        "# Deletes the value 100\n",
        "#list1.remove(100)\n",
        "list1"
      ]
    },
    {
      "cell_type": "code",
      "source": [
        "list1=[10, 3, 3, 4, 5, 6, 9]\n",
        "list2=list1.pop(6)\n",
        "list1.append(\"intesar\")\n",
        "list1.insert(7,\"ali\")\n",
        "list1.extend([\"A\",\"B\",\"C\" , 2024])\n",
        "list1.append([2021,2022,2023,2024])\n",
        "\n",
        "print(list1)"
      ],
      "metadata": {
        "colab": {
          "base_uri": "https://localhost:8080/"
        },
        "id": "aQEzYPVfP5tt",
        "outputId": "ac30562f-acfa-46e0-ed4a-abbc8a20606b"
      },
      "execution_count": null,
      "outputs": [
        {
          "output_type": "stream",
          "name": "stdout",
          "text": [
            "[10, 3, 3, 4, 5, 6, 'intesar', 'ali', 'A', 'B', 'C', 2024, [2021, 2022, 2023, 2024]]\n"
          ]
        }
      ]
    },
    {
      "cell_type": "markdown",
      "metadata": {
        "id": "rP_-AspsH8Ue"
      },
      "source": [
        "__Add__ all items in a list"
      ]
    },
    {
      "cell_type": "code",
      "execution_count": null,
      "metadata": {
        "id": "lGtU6xDhH8Ue",
        "outputId": "f54ed5e6-770d-4f53-b4c8-976e3b754d0c"
      },
      "outputs": [
        {
          "data": {
            "text/plain": [
              "18"
            ]
          },
          "execution_count": 24,
          "metadata": {},
          "output_type": "execute_result"
        }
      ],
      "source": [
        "sum(list3)"
      ]
    },
    {
      "cell_type": "code",
      "execution_count": null,
      "metadata": {
        "id": "Q-TtETH4H8Uf",
        "outputId": "25903a14-c2ec-4592-82d6-719c3280462a"
      },
      "outputs": [
        {
          "data": {
            "text/plain": [
              "[4, 2, 1]"
            ]
          },
          "execution_count": 61,
          "metadata": {},
          "output_type": "execute_result"
        }
      ],
      "source": [
        "lista1 = [1,2,4]\n",
        "lista1.reverse()\n",
        "lista1"
      ]
    },
    {
      "cell_type": "code",
      "execution_count": null,
      "metadata": {
        "id": "4bOGYFVMH8Uf"
      },
      "outputs": [],
      "source": []
    },
    {
      "cell_type": "markdown",
      "metadata": {
        "id": "CJJFnJ1HH8Uf"
      },
      "source": [
        "__Concat__ lists +"
      ]
    },
    {
      "cell_type": "code",
      "execution_count": null,
      "metadata": {
        "id": "Uujfc3gQH8Ug",
        "outputId": "1dc5353d-d8b9-4617-9a1d-72edadcbcccb"
      },
      "outputs": [
        {
          "data": {
            "text/plain": [
              "[1, 2, 3, 4, 5, 6]"
            ]
          },
          "execution_count": 26,
          "metadata": {},
          "output_type": "execute_result"
        }
      ],
      "source": [
        "lis1 = [1,2,3]\n",
        "lis2 = [4,5,6]\n",
        "lis3 = lis1 + lis2\n",
        "lis3"
      ]
    },
    {
      "cell_type": "markdown",
      "metadata": {
        "id": "xL-8FOr9H8Ug"
      },
      "source": [
        "Methods of lists"
      ]
    },
    {
      "cell_type": "code",
      "execution_count": null,
      "metadata": {
        "id": "XR3dOo01H8Uy"
      },
      "outputs": [],
      "source": [
        "dir(lis1)"
      ]
    },
    {
      "cell_type": "markdown",
      "metadata": {
        "id": "CbxBAbymH8Uy"
      },
      "source": [
        "Multiplying a list by a value"
      ]
    },
    {
      "cell_type": "code",
      "execution_count": null,
      "metadata": {
        "id": "hxZn9dNrH8Uy",
        "outputId": "29725ab0-0f47-4354-c3cd-f0d53c653bfd"
      },
      "outputs": [
        {
          "data": {
            "text/plain": [
              "[1, 2, 3, 1, 2, 3, 1, 2, 3]"
            ]
          },
          "execution_count": 27,
          "metadata": {},
          "output_type": "execute_result"
        }
      ],
      "source": [
        "lis3 = 3*lis1\n",
        "lis3"
      ]
    },
    {
      "cell_type": "markdown",
      "metadata": {
        "id": "85mCFvsuH8Uz"
      },
      "source": [
        "Example of passing by __value__ and by __reference__."
      ]
    },
    {
      "cell_type": "code",
      "execution_count": null,
      "metadata": {
        "id": "W77BHU70H8Uz",
        "outputId": "6051bdae-c3cd-4cb5-d556-d7e7031f51fa"
      },
      "outputs": [
        {
          "data": {
            "text/plain": [
              "([1, 2, 10, 4, 5],\n",
              " [1, 2, 10, 4, 5],\n",
              " [1, 2, 10, 4, 5],\n",
              " [1, 2, 3, 4, 5],\n",
              " 2226296505928,\n",
              " 2226296505928,\n",
              " 2226296505032,\n",
              " 2226296507592)"
            ]
          },
          "execution_count": 68,
          "metadata": {},
          "output_type": "execute_result"
        }
      ],
      "source": [
        "# by reference\n",
        "lisv1 = [1,2,3,4,5]\n",
        "lisv2 = lisv1\n",
        "lisv1[2] = 10\n",
        "\n",
        "# by value\n",
        "lisr1 = [1,2,3,4,5]\n",
        "lisr2 = lisr1.copy()\n",
        "lisr1[2] = 10\n",
        "lisv1, lisv2, lisr1, lisr2, id(lisv1), id(lisv2), id(lisr1), id(lisr2)"
      ]
    },
    {
      "cell_type": "markdown",
      "metadata": {
        "id": "YyTqaMJuH8Uz"
      },
      "source": [
        "Get the __identifier__ associated with an __object__."
      ]
    },
    {
      "cell_type": "code",
      "execution_count": null,
      "metadata": {
        "id": "mglV9dEdH8U0",
        "outputId": "3e4473fb-b341-497c-ec6a-eaa6ed25eeda"
      },
      "outputs": [
        {
          "data": {
            "text/plain": [
              "1826321466952"
            ]
          },
          "execution_count": 35,
          "metadata": {},
          "output_type": "execute_result"
        }
      ],
      "source": [
        "a = 4\n",
        "id(a)\n",
        "# Changing the value destroys the old object and creates a new one.\n",
        "a = 5\n",
        "id(a)"
      ]
    },
    {
      "cell_type": "code",
      "execution_count": null,
      "metadata": {
        "id": "ofa8hxMmH8U0",
        "outputId": "66b6bc18-7ee6-4a6f-d2eb-7afbad198f90"
      },
      "outputs": [
        {
          "data": {
            "text/plain": [
              "1826321468808"
            ]
          },
          "execution_count": 37,
          "metadata": {},
          "output_type": "execute_result"
        }
      ],
      "source": [
        "lis = [1,0,2,3]\n",
        "id(lis)\n",
        "# When modifying the object, the id does not change, it is the same object.\n",
        "lis[1] = 30\n",
        "id(lis)"
      ]
    },
    {
      "cell_type": "markdown",
      "metadata": {
        "id": "bbQpI61vH8U1"
      },
      "source": [
        "Working with __lists of lists__."
      ]
    },
    {
      "cell_type": "code",
      "execution_count": null,
      "metadata": {
        "id": "h_BBVBNeH8U1",
        "outputId": "d2a00aa8-bf39-4110-e186-fbf3ab9362f1"
      },
      "outputs": [
        {
          "data": {
            "text/plain": [
              "('a1', ['a1', 'b1'], list, ['a2', '2', 'c2'], 'c3', '2')"
            ]
          },
          "execution_count": 28,
          "metadata": {},
          "output_type": "execute_result"
        }
      ],
      "source": [
        "# listas de listas\n",
        "lis1 = [['a1', 'b1', 'c1'],['a2', '2' ,'c2'],['a3','b3','c3']]\n",
        "a = lis1[0][0]\n",
        "b=list1[0][0:2]\n",
        "c=lis1[:][1]\n",
        "\n",
        "d=lis1[-1][-1]\n",
        "e=lis1[1][1]\n",
        "a,b,type(b),c,d,e"
      ]
    },
    {
      "cell_type": "code",
      "source": [
        "lis1 = [['a1', 'b1', 'c1'],['a2', '2' ,'c2'],['a3','b3','c3']]\n",
        "a = lis1[0][0]\n",
        "print(a)\n",
        "b=lis1[0][0:2]\n",
        "print(b)\n",
        "c=lis1[1][:]\n",
        "print(c)\n",
        "\n",
        "\n",
        "\n"
      ],
      "metadata": {
        "colab": {
          "base_uri": "https://localhost:8080/"
        },
        "id": "TiuJjBZ4Z3g4",
        "outputId": "89387b7c-8da1-4b0d-8702-26283ed01fba"
      },
      "execution_count": null,
      "outputs": [
        {
          "output_type": "stream",
          "name": "stdout",
          "text": [
            "a1\n",
            "['a1', 'b1']\n",
            "['a2', '2', 'c2']\n"
          ]
        }
      ]
    },
    {
      "cell_type": "code",
      "execution_count": null,
      "metadata": {
        "id": "N2uGEptBH8U2",
        "outputId": "43060dca-d648-48d3-c548-b2e24149fa22"
      },
      "outputs": [
        {
          "data": {
            "text/plain": [
              "[['a1', 'b1', 'c1'], ['a2', '2', 'c2'], ['a3', 'b3', 'c3']]"
            ]
          },
          "execution_count": 29,
          "metadata": {},
          "output_type": "execute_result"
        }
      ],
      "source": [
        "lis1"
      ]
    },
    {
      "cell_type": "code",
      "execution_count": null,
      "metadata": {
        "id": "B_NGLR0YH8U2",
        "outputId": "697972ff-1d08-4f42-b741-363f2ef4c8f4"
      },
      "outputs": [
        {
          "data": {
            "text/plain": [
              "'2'"
            ]
          },
          "execution_count": 31,
          "metadata": {},
          "output_type": "execute_result"
        }
      ],
      "source": [
        "lis1[1][1]"
      ]
    },
    {
      "cell_type": "markdown",
      "metadata": {
        "id": "yCwkgH87H8U3"
      },
      "source": [
        "Any collection can be iterated with the __iter__ method."
      ]
    },
    {
      "cell_type": "code",
      "execution_count": null,
      "metadata": {
        "id": "Hx0UbCiUH8U3"
      },
      "outputs": [],
      "source": [
        "lis5 = [1,'hola', 25]"
      ]
    },
    {
      "cell_type": "code",
      "execution_count": null,
      "metadata": {
        "id": "qqal2w1gH8U4",
        "outputId": "d3f8c135-3186-4a22-8bfa-1b6d2a08b924"
      },
      "outputs": [
        {
          "name": "stdout",
          "output_type": "stream",
          "text": [
            "1\n",
            "hola\n",
            "25\n"
          ]
        }
      ],
      "source": [
        "lisiter = iter(lis5)\n",
        "print(next(lisiter))\n",
        "print(next(lisiter))\n",
        "print(next(lisiter))"
      ]
    },
    {
      "cell_type": "code",
      "execution_count": null,
      "metadata": {
        "id": "3qAn4vIlH8U4",
        "outputId": "e5ef472b-4c21-4f6f-de05-90673680f3b7"
      },
      "outputs": [
        {
          "data": {
            "text/plain": [
              "list_iterator"
            ]
          },
          "execution_count": 36,
          "metadata": {},
          "output_type": "execute_result"
        }
      ],
      "source": [
        "type(lisiter)"
      ]
    },
    {
      "cell_type": "markdown",
      "metadata": {
        "id": "HrUfALGoH8U5"
      },
      "source": [
        "### Tuples"
      ]
    },
    {
      "cell_type": "code",
      "execution_count": null,
      "metadata": {
        "id": "CQcKw8SHH8U5",
        "outputId": "3ae55b3d-f4be-47ec-bf35-eafc74b042e7"
      },
      "outputs": [
        {
          "data": {
            "text/plain": [
              "(4.67, 4, tuple)"
            ]
          },
          "execution_count": 1,
          "metadata": {},
          "output_type": "execute_result"
        }
      ],
      "source": [
        "# tuple definition\n",
        "tup1 = (1, \"Madrid\", 4.67, True)\n",
        "numelem = len(tup1)\n",
        "a = tup1[2]\n",
        "a, numelem, type(tup1)"
      ]
    },
    {
      "cell_type": "code",
      "execution_count": null,
      "metadata": {
        "id": "dx59y_o9H8U6"
      },
      "outputs": [],
      "source": [
        "# Assignments cannot be made in tuples\n",
        "tup1[3] = 8\n",
        "# A tuple can be \"split\" into several variables\n",
        "a,b,c,d = tup1"
      ]
    },
    {
      "cell_type": "code",
      "execution_count": null,
      "metadata": {
        "id": "ORQOcRTwH8U6",
        "outputId": "e17b6925-078b-4a82-d855-3362d3ac7645"
      },
      "outputs": [
        {
          "data": {
            "text/plain": [
              "True"
            ]
          },
          "execution_count": 39,
          "metadata": {},
          "output_type": "execute_result"
        }
      ],
      "source": [
        "tup1 = (1,2,3,4,5)\n",
        "1 in tup1"
      ]
    },
    {
      "cell_type": "code",
      "execution_count": null,
      "metadata": {
        "id": "xiJ0lc-GH8U6"
      },
      "outputs": [],
      "source": [
        "liscli = [\n",
        "    (\"Luis\", 33),\n",
        "    (\"Ana\", 22),\n",
        "    (\"Pepe\", 41)\n",
        "]\n",
        "liscli[0][1] = 32"
      ]
    },
    {
      "cell_type": "markdown",
      "metadata": {
        "id": "EidlyvgSH8U7"
      },
      "source": [
        "Compare list and tuple size"
      ]
    },
    {
      "cell_type": "code",
      "execution_count": null,
      "metadata": {
        "id": "1ciRVoY3H8U7",
        "outputId": "f3f741f2-cc20-4e4c-b5e1-cd6ee1e23e38"
      },
      "outputs": [
        {
          "data": {
            "text/plain": [
              "168"
            ]
          },
          "execution_count": 41,
          "metadata": {},
          "output_type": "execute_result"
        }
      ],
      "source": [
        "lis1 = [1,2,3,4,5,6,7,8,9,10,11,12,13,14,15]\n",
        "lis1.__sizeof__()"
      ]
    },
    {
      "cell_type": "code",
      "execution_count": null,
      "metadata": {
        "id": "C6Q-osf6H8U7",
        "outputId": "77f6e65c-e4d6-4df8-ee3b-88e7deb24dd6"
      },
      "outputs": [
        {
          "data": {
            "text/plain": [
              "144"
            ]
          },
          "execution_count": 42,
          "metadata": {},
          "output_type": "execute_result"
        }
      ],
      "source": [
        "tup1 = (1,2,3,4,5,6,7,8,9,10,11,12,13,14,15)\n",
        "tup1.__sizeof__()"
      ]
    },
    {
      "cell_type": "markdown",
      "metadata": {
        "id": "bMzmy0-BH8U7"
      },
      "source": [
        "### Sets"
      ]
    },
    {
      "cell_type": "code",
      "execution_count": null,
      "metadata": {
        "id": "EwmTZs21H8U7",
        "outputId": "cfe8d9ce-4608-45e2-f21b-1f7be0611a41"
      },
      "outputs": [
        {
          "data": {
            "text/plain": [
              "(set, {1, 2, 3, 4})"
            ]
          },
          "execution_count": 43,
          "metadata": {},
          "output_type": "execute_result"
        }
      ],
      "source": [
        "# set definition\n",
        "set1 = {1, 2, 3, 4, 4}\n",
        "type(set1), set1"
      ]
    },
    {
      "cell_type": "code",
      "execution_count": null,
      "metadata": {
        "id": "hYmBSjZKH8U8"
      },
      "outputs": [],
      "source": [
        "set1[0]"
      ]
    },
    {
      "cell_type": "code",
      "execution_count": null,
      "metadata": {
        "id": "UzkHHJugH8U8",
        "outputId": "fc67257f-bcaa-4859-e0d7-696db4f24036"
      },
      "outputs": [
        {
          "data": {
            "text/plain": [
              "[1, 2, 3, 4, 5]"
            ]
          },
          "execution_count": 45,
          "metadata": {},
          "output_type": "execute_result"
        }
      ],
      "source": [
        "# change from list to set. Remains with unique values\n",
        "lis1 = [1,2,2,3,4,5,5]\n",
        "set2 = set(lis1)\n",
        "lis2 = list(set(lis1)) # remove dups\n",
        "lis2"
      ]
    },
    {
      "cell_type": "code",
      "execution_count": null,
      "metadata": {
        "id": "2UCTHstKH8U8",
        "outputId": "36129713-d08e-4fd5-9d7d-ace9dfa52010"
      },
      "outputs": [
        {
          "data": {
            "text/plain": [
              "{1, 3, 4, 5, 6}"
            ]
          },
          "execution_count": 110,
          "metadata": {},
          "output_type": "execute_result"
        }
      ],
      "source": [
        "set2.add(6)  # add elements\n",
        "set2.discard(2) # delete items\n",
        "set2"
      ]
    },
    {
      "cell_type": "code",
      "execution_count": null,
      "metadata": {
        "id": "hQWgYEBgH8U9",
        "outputId": "bdd76022-21e1-43ff-90cb-950247390a6a"
      },
      "outputs": [
        {
          "data": {
            "text/plain": [
              "True"
            ]
          },
          "execution_count": 112,
          "metadata": {},
          "output_type": "execute_result"
        }
      ],
      "source": [
        "3 in set2    #  True\n",
        "#8 in set2    #  False"
      ]
    },
    {
      "cell_type": "code",
      "execution_count": null,
      "metadata": {
        "id": "v-DGwTDJH8U9",
        "outputId": "6eb8461d-e761-4fe9-e71e-f9c42568ecc1"
      },
      "outputs": [
        {
          "name": "stdout",
          "output_type": "stream",
          "text": [
            "{1, 2, 3, 4, 5, 6}\n",
            "{2, 3, 4}\n",
            "{1}\n",
            "{5, 6}\n"
          ]
        }
      ],
      "source": [
        "# Junctions, intersections and differences\n",
        "set1 = {1, 2, 3, 4}\n",
        "set2 = {2, 3, 4, 5, 6}\n",
        "set3 = set1 | set2  # union\n",
        "print(set3)\n",
        "set4 = set1 & set2  # intersection: common elements\n",
        "print(set4)\n",
        "set5 = set1 - set2  # differences elements of set1 that are not in set2\n",
        "print(set5)\n",
        "set6 = set2 - set1  # differences: elements of set2 that are not in set1\n",
        "print(set6)"
      ]
    },
    {
      "cell_type": "markdown",
      "metadata": {
        "id": "fXsgtUeeH8U9"
      },
      "source": [
        "Methods of the set class"
      ]
    },
    {
      "cell_type": "code",
      "execution_count": null,
      "metadata": {
        "id": "GiDcAXPAH8U-",
        "outputId": "70f4bfd5-b63e-4384-916a-d50d0c12b6f8"
      },
      "outputs": [
        {
          "data": {
            "text/plain": [
              "{4, 7}"
            ]
          },
          "execution_count": 7,
          "metadata": {},
          "output_type": "execute_result"
        }
      ],
      "source": [
        "set1.add(7)\n",
        "set1"
      ]
    },
    {
      "cell_type": "code",
      "execution_count": null,
      "metadata": {
        "id": "EEweBib5H8U-",
        "outputId": "356d119a-0dc4-4d64-a6d0-34440f155c6b"
      },
      "outputs": [
        {
          "data": {
            "text/plain": [
              "{1, 2, 3, 4}"
            ]
          },
          "execution_count": 3,
          "metadata": {},
          "output_type": "execute_result"
        }
      ],
      "source": [
        "set1.discard(7)\n",
        "set1"
      ]
    },
    {
      "cell_type": "code",
      "execution_count": null,
      "metadata": {
        "id": "3vx8Qp8HH8U-",
        "outputId": "a0b00a79-6371-4b3a-cf6b-489a50ccde77"
      },
      "outputs": [
        {
          "data": {
            "text/plain": [
              "({1, 2, 3, 4}, {1, 2, 3, 4, 5})"
            ]
          },
          "execution_count": 113,
          "metadata": {},
          "output_type": "execute_result"
        }
      ],
      "source": [
        "set1, set2"
      ]
    },
    {
      "cell_type": "code",
      "execution_count": null,
      "metadata": {
        "id": "zLH_4HNXH8U_",
        "outputId": "b0449dbe-a700-4dc3-f791-f0972e9941c2"
      },
      "outputs": [
        {
          "data": {
            "text/plain": [
              "{1, 2, 3, 4, 5}"
            ]
          },
          "execution_count": 114,
          "metadata": {},
          "output_type": "execute_result"
        }
      ],
      "source": [
        "set1.update(set2)\n",
        "set1"
      ]
    },
    {
      "cell_type": "code",
      "execution_count": null,
      "metadata": {
        "id": "iJQ5J_6nH8U_"
      },
      "outputs": [],
      "source": [
        "set7 = {3,5}"
      ]
    },
    {
      "cell_type": "code",
      "execution_count": null,
      "metadata": {
        "id": "ciY5RUDTH8VA",
        "outputId": "4e1cf19b-3537-4d97-bec1-5bf5ebcd1588"
      },
      "outputs": [
        {
          "data": {
            "text/plain": [
              "True"
            ]
          },
          "execution_count": 117,
          "metadata": {},
          "output_type": "execute_result"
        }
      ],
      "source": [
        "res = set7.issubset(set1)\n",
        "res"
      ]
    },
    {
      "cell_type": "code",
      "execution_count": null,
      "metadata": {
        "id": "HhIaCZx-H8VA",
        "outputId": "762fe445-ae10-4b17-deb6-cc98a7878f85"
      },
      "outputs": [
        {
          "data": {
            "text/plain": [
              "{1, 2, 3, 4, 5, 6}"
            ]
          },
          "execution_count": 17,
          "metadata": {},
          "output_type": "execute_result"
        }
      ],
      "source": [
        "set1"
      ]
    },
    {
      "cell_type": "markdown",
      "metadata": {
        "id": "ZNC1H8drH8VB"
      },
      "source": [
        "Lists are slightly faster than sets for iterations, but sets are significantly faster for checking whether an item is in a collection."
      ]
    },
    {
      "cell_type": "code",
      "execution_count": null,
      "metadata": {
        "id": "DVWg5116H8VB"
      },
      "outputs": [],
      "source": [
        "tope = 10000000\n",
        "lis1 = list(range(tope))\n",
        "set1 = set(range(tope))"
      ]
    },
    {
      "cell_type": "code",
      "execution_count": null,
      "metadata": {
        "id": "JT9b2tY1H8VB",
        "outputId": "c7dbc3d1-5bc4-4132-eab5-1d54dd7ed1dc"
      },
      "outputs": [
        {
          "name": "stdout",
          "output_type": "stream",
          "text": [
            "33.7 ms ± 493 µs per loop (mean ± std. dev. of 7 runs, 10 loops each)\n"
          ]
        }
      ],
      "source": [
        "%%timeit\n",
        "3521000 in lis1"
      ]
    },
    {
      "cell_type": "code",
      "execution_count": null,
      "metadata": {
        "id": "WQ_2NUPPH8VC",
        "outputId": "47b6cc7d-a9ef-4193-9fdf-14e6c0df0ac3"
      },
      "outputs": [
        {
          "name": "stdout",
          "output_type": "stream",
          "text": [
            "63.8 ns ± 8.7 ns per loop (mean ± std. dev. of 7 runs, 10000000 loops each)\n"
          ]
        }
      ],
      "source": [
        "%%timeit\n",
        "3521000 in set1"
      ]
    },
    {
      "cell_type": "code",
      "execution_count": null,
      "metadata": {
        "id": "Fl8ZaT6EH8VC",
        "outputId": "afbee469-9beb-4ccc-b335-6ea3856ae9ad"
      },
      "outputs": [
        {
          "name": "stdout",
          "output_type": "stream",
          "text": [
            "9000112\n",
            "33554656\n"
          ]
        }
      ],
      "source": [
        "import sys\n",
        "print(sys.getsizeof(lis1))\n",
        "print(sys.getsizeof(set1))"
      ]
    }
  ],
  "metadata": {
    "kernelspec": {
      "display_name": "Python 3 (ipykernel)",
      "language": "python",
      "name": "python3"
    },
    "language_info": {
      "codemirror_mode": {
        "name": "ipython",
        "version": 3
      },
      "file_extension": ".py",
      "mimetype": "text/x-python",
      "name": "python",
      "nbconvert_exporter": "python",
      "pygments_lexer": "ipython3",
      "version": "3.10.9"
    },
    "colab": {
      "provenance": [],
      "include_colab_link": true
    }
  },
  "nbformat": 4,
  "nbformat_minor": 0
}