{
  "cells": [
    {
      "cell_type": "markdown",
      "metadata": {
        "id": "view-in-github",
        "colab_type": "text"
      },
      "source": [
        "<a href=\"https://colab.research.google.com/github/intisar2024/master_ITM/blob/main/EJ07_STATEMENTS_functions.ipynb\" target=\"_parent\"><img src=\"https://colab.research.google.com/assets/colab-badge.svg\" alt=\"Open In Colab\"/></a>"
      ]
    },
    {
      "cell_type": "markdown",
      "metadata": {
        "id": "I5qYfxUy8gSv"
      },
      "source": [
        "## Working with functions"
      ]
    },
    {
      "cell_type": "markdown",
      "metadata": {
        "id": "132rva5M8gSy"
      },
      "source": [
        "Create a function that receives a list of numeric values (positive and negative) and returns a second list of values greater than zero.\n",
        "with the values greater than zero"
      ]
    },
    {
      "cell_type": "code",
      "execution_count": 15,
      "metadata": {
        "colab": {
          "base_uri": "https://localhost:8080/"
        },
        "id": "OL85zEmW8gSz",
        "outputId": "d29647ea-ae3c-41fd-985c-607e454fb427"
      },
      "outputs": [
        {
          "output_type": "stream",
          "name": "stdout",
          "text": [
            "1\n",
            "pos\n",
            "-1\n",
            "neg\n",
            "2\n",
            "pos\n",
            "3\n",
            "pos\n",
            "-3\n",
            "neg\n",
            "5\n",
            "pos\n"
          ]
        }
      ],
      "source": [
        "lis1=[1,-1,2,3,-3,5]\n",
        "for var in lis1:\n",
        "   print(var)\n",
        "   if var>=0:\n",
        "    print(\"pos\")\n",
        "   else:\n",
        "     print(\"neg\")\n",
        "\n",
        ""
      ]
    },
    {
      "cell_type": "code",
      "execution_count": 10,
      "metadata": {
        "colab": {
          "base_uri": "https://localhost:8080/"
        },
        "id": "fViBg6lZ8gS0",
        "outputId": "a3ce5363-4a1c-48e4-876f-f1c58957c575"
      },
      "outputs": [
        {
          "output_type": "execute_result",
          "data": {
            "text/plain": [
              "[1, 2, 3, 4, 5]"
            ]
          },
          "metadata": {},
          "execution_count": 10
        }
      ],
      "source": [
        "lis1=[1,-1,2,3,-3,5,-7,4]\n",
        "lis2=[]\n",
        "for val in lis1:\n",
        "  if val>=0:\n",
        "    lis2.append(val)\n",
        "lis2.sort()\n",
        "lis2\n",
        "\n"
      ]
    },
    {
      "cell_type": "code",
      "source": [],
      "metadata": {
        "id": "mjITbrvvDN3D"
      },
      "execution_count": null,
      "outputs": []
    },
    {
      "cell_type": "code",
      "source": [
        "def positive_values(v_lis):\n",
        "  lis2=[]\n",
        "  for val in v_lis:\n",
        "    if val>=0:\n",
        "      lis2.append(val)\n",
        "  lis2.sort()\n",
        "  return lis2"
      ],
      "metadata": {
        "id": "hfZ7iZvgCC2i"
      },
      "execution_count": 19,
      "outputs": []
    },
    {
      "cell_type": "code",
      "source": [
        "lis1=[1,2,-3,-6,8,7]\n",
        "positive_values(lis1)"
      ],
      "metadata": {
        "colab": {
          "base_uri": "https://localhost:8080/"
        },
        "id": "y-bvmELFDrXE",
        "outputId": "296d54c6-6664-436a-a59d-418a77b03f58"
      },
      "execution_count": 18,
      "outputs": [
        {
          "output_type": "execute_result",
          "data": {
            "text/plain": [
              "[1, 2, 7, 8]"
            ]
          },
          "metadata": {},
          "execution_count": 18
        }
      ]
    },
    {
      "cell_type": "markdown",
      "metadata": {
        "id": "HnmXBx2u8gS1"
      },
      "source": [
        "Create a function that receives a dictionary like the following:\n",
        "customer = {'cod_customer': 'A100', 'contract_type': 'A', 'invoice': 50}\n",
        "\n",
        "The contract_type field can take the values; 'A', 'B' or 'C' and the invoice is an integer greater than zero.\n",
        "The function must validate that if the contract_type is 'A' the invoice cannot be greater than 50.\n",
        "If the validation is true, return True, otherwise False (contract_type is 'A' and invoice > 50)."
      ]
    },
    {
      "cell_type": "code",
      "execution_count": null,
      "metadata": {
        "id": "Bboaiqb48gS1"
      },
      "outputs": [],
      "source": []
    },
    {
      "cell_type": "code",
      "execution_count": null,
      "metadata": {
        "id": "in96-mJr8gS2"
      },
      "outputs": [],
      "source": []
    },
    {
      "cell_type": "markdown",
      "metadata": {
        "id": "Ri812KIK8gS2"
      },
      "source": [
        "Create a function to validate with the above function the following list:\n",
        "customers = [   \n",
        "{'cod_customer': 'A100', 'contract_type': 'A', 'invoice': 51},  \n",
        "{'cod_customer': 'A100', 'contract_type': 'A', 'invoice': 22},  \n",
        "{'cod_customer': 'A100', 'contract_type': 'B', 'invoice': 71},  \n",
        "{'cod_customer': 'A100', 'contract_type': 'C', 'invoice': 51},  \n",
        "{'cod_customer': 'A100', 'contract_type': 'A', 'invoice': 61}  \n",
        "   ]   \n",
        "The result of each validation add it to each dictionary in a field named 'validation'."
      ]
    },
    {
      "cell_type": "code",
      "execution_count": null,
      "metadata": {
        "id": "W_KKDO6m8gS3"
      },
      "outputs": [],
      "source": []
    },
    {
      "cell_type": "code",
      "execution_count": null,
      "metadata": {
        "id": "4qxU0fc38gS3"
      },
      "outputs": [],
      "source": []
    },
    {
      "cell_type": "code",
      "execution_count": null,
      "metadata": {
        "id": "2tHC4Ee28gS3"
      },
      "outputs": [],
      "source": []
    },
    {
      "cell_type": "code",
      "execution_count": null,
      "metadata": {
        "id": "IAiMBlbN8gS4"
      },
      "outputs": [],
      "source": []
    }
  ],
  "metadata": {
    "kernelspec": {
      "display_name": "Python 3 (ipykernel)",
      "language": "python",
      "name": "python3"
    },
    "language_info": {
      "codemirror_mode": {
        "name": "ipython",
        "version": 3
      },
      "file_extension": ".py",
      "mimetype": "text/x-python",
      "name": "python",
      "nbconvert_exporter": "python",
      "pygments_lexer": "ipython3",
      "version": "3.10.9"
    },
    "colab": {
      "provenance": [],
      "include_colab_link": true
    }
  },
  "nbformat": 4,
  "nbformat_minor": 0
}