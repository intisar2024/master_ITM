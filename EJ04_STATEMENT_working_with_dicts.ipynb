{
  "cells": [
    {
      "cell_type": "markdown",
      "metadata": {
        "id": "view-in-github",
        "colab_type": "text"
      },
      "source": [
        "<a href=\"https://colab.research.google.com/github/intisar2024/master_ITM/blob/main/EJ04_STATEMENT_working_with_dicts.ipynb\" target=\"_parent\"><img src=\"https://colab.research.google.com/assets/colab-badge.svg\" alt=\"Open In Colab\"/></a>"
      ]
    },
    {
      "cell_type": "markdown",
      "metadata": {
        "id": "-7Ig6l4Weqp-"
      },
      "source": [
        "# Exercises dictionaries and type conversion"
      ]
    },
    {
      "cell_type": "markdown",
      "metadata": {
        "id": "MBMMl_2AeqqA"
      },
      "source": [
        "Create a list of dictionaries with the following values:\n",
        "\n",
        "cod_customer:'A100', ant_years:3, invoice: 45.6\n",
        "\n",
        "cod_customer:'A101', ant_years:1, invoice: 15.2\n",
        "\n",
        "cod_customer:'B101', ant_years:5, invoice: 28.5\n",
        "\n",
        "cod_customer:'C102', ant_years:8, invoice: 22.3"
      ]
    },
    {
      "cell_type": "code",
      "execution_count": null,
      "metadata": {
        "colab": {
          "base_uri": "https://localhost:8080/"
        },
        "id": "3hSKV5EneqqB",
        "outputId": "82cc0817-96d9-45f9-9c64-8c946cada5a0"
      },
      "outputs": [
        {
          "output_type": "execute_result",
          "data": {
            "text/plain": [
              "[{'cod_customer': 'A100', 'ant_years': 3, 'invoice': 45.6},\n",
              " {'cod_customer': 'A101', 'ant_years': 1, 'invoice': 15.2},\n",
              " {'cod_customer': 'B101', 'ant_years': 5, 'invoice': 28.5},\n",
              " {'cod_customer': 'C102', 'ant_years': 8, 'invoice': 22.3}]"
            ]
          },
          "metadata": {},
          "execution_count": 3
        }
      ],
      "source": [
        "customers=[\n",
        "    {'cod_customer':'A100', 'ant_years':3, 'invoice': 45.6},\n",
        "    {'cod_customer':'A101', 'ant_years':1, 'invoice': 15.2},\n",
        "    {'cod_customer':'B101', 'ant_years':5, 'invoice': 28.5},\n",
        "    {'cod_customer':'C102', 'ant_years':8, 'invoice': 22.3}\n",
        "    ]\n",
        "customers"
      ]
    },
    {
      "cell_type": "markdown",
      "metadata": {
        "id": "Wm4yT-VweqqB"
      },
      "source": [
        "Modify the value of the 'ant_years' key of the first customer with the value 4"
      ]
    },
    {
      "cell_type": "code",
      "execution_count": null,
      "metadata": {
        "colab": {
          "base_uri": "https://localhost:8080/"
        },
        "id": "1K_7EAyMeqqB",
        "outputId": "ef62a956-905c-40a7-d5f4-b7c7e5a766e6"
      },
      "outputs": [
        {
          "output_type": "execute_result",
          "data": {
            "text/plain": [
              "('after change:',\n",
              " [{'cod_customer': 'A100', 'ant_years': 4, 'invoice': 45.6},\n",
              "  {'cod_customer': 'A101', 'ant_years': 1, 'invoice': 15.2},\n",
              "  {'cod_customer': 'B101', 'ant_years': 5, 'invoice': 28.5},\n",
              "  {'cod_customer': 'C102', 'ant_years': 8, 'invoice': 22.3}])"
            ]
          },
          "metadata": {},
          "execution_count": 31
        }
      ],
      "source": [
        "customers=[\n",
        "    {'cod_customer':'A100', 'ant_years':3, 'invoice': 45.6},\n",
        "    {'cod_customer':'A101', 'ant_years':1, 'invoice': 15.2},\n",
        "    {'cod_customer':'B101', 'ant_years':5, 'invoice': 28.5},\n",
        "    {'cod_customer':'C102', 'ant_years':8, 'invoice': 22.3}\n",
        "    ]\n",
        "customers[0]['ant_years'] = 4\n",
        "(\"after change:\" ,customers)\n"
      ]
    },
    {
      "cell_type": "markdown",
      "source": [],
      "metadata": {
        "id": "SWex0wSO2_AK"
      }
    },
    {
      "cell_type": "code",
      "source": [
        "Modify the value of the ''cod_customer' key of the second customer with the value d222"
      ],
      "metadata": {
        "id": "29i3jCkh1lSj"
      },
      "execution_count": null,
      "outputs": []
    },
    {
      "cell_type": "code",
      "source": [
        "customers=[\n",
        "    {'cod_customer':'A100', 'ant_years':3, 'invoice': 45.6},\n",
        "    {'cod_customer':'A101', 'ant_years':1, 'invoice': 15.2},\n",
        "    {'cod_customer':'B101', 'ant_years':5, 'invoice': 28.5},\n",
        "    {'cod_customer':'C102', 'ant_years':8, 'invoice': 22.3}\n",
        "    ]\n",
        "customers[3]['cod_customer'] = 'd222'\n",
        "customers"
      ],
      "metadata": {
        "colab": {
          "base_uri": "https://localhost:8080/"
        },
        "id": "pdvyhM7W3XCa",
        "outputId": "a544a8b4-736f-4f64-d7a6-e6a9584ca41c"
      },
      "execution_count": null,
      "outputs": [
        {
          "output_type": "execute_result",
          "data": {
            "text/plain": [
              "[{'cod_customer': 'A100', 'ant_years': 3, 'invoice': 45.6},\n",
              " {'cod_customer': 'A101', 'ant_years': 1, 'invoice': 15.2},\n",
              " {'cod_customer': 'B101', 'ant_years': 5, 'invoice': 28.5},\n",
              " {'cod_customer': 'd222', 'ant_years': 8, 'invoice': 22.3}]"
            ]
          },
          "metadata": {},
          "execution_count": 40
        }
      ]
    },
    {
      "cell_type": "markdown",
      "metadata": {
        "id": "yaYHRz7seqqB"
      },
      "source": [
        "Store dictionary keys in a list"
      ]
    },
    {
      "cell_type": "code",
      "execution_count": null,
      "metadata": {
        "colab": {
          "base_uri": "https://localhost:8080/"
        },
        "id": "1Kl-XlOyeqqC",
        "outputId": "0b95229d-e7a9-409a-f588-070d22494ef5"
      },
      "outputs": [
        {
          "output_type": "stream",
          "name": "stdout",
          "text": [
            "['cod_customer', 'ant_years', 'invoice']\n"
          ]
        }
      ],
      "source": [
        "customers=[\n",
        "    {'cod_customer':'A100', 'ant_years':3, 'invoice': 45.6},\n",
        "    {'cod_customer':'A101', 'ant_years':1, 'invoice': 15.2},\n",
        "    {'cod_customer':'B101', 'ant_years':5, 'invoice': 28.5},\n",
        "    {'cod_customer':'C102', 'ant_years':8, 'invoice': 22.3}\n",
        "    ]\n",
        "keylist=list(customers[0].keys())\n",
        "print(keylist)"
      ]
    },
    {
      "cell_type": "markdown",
      "metadata": {
        "id": "0i22y7bheqqC"
      },
      "source": [
        "Add a customer to the list with the following values:   \n",
        "cod_customer:'D101', ant_years:2, invoice: 17.7"
      ]
    },
    {
      "cell_type": "code",
      "execution_count": null,
      "metadata": {
        "colab": {
          "base_uri": "https://localhost:8080/"
        },
        "id": "hLePe_3LeqqC",
        "outputId": "e081574b-1d8a-4752-a3a9-51236bc304fe"
      },
      "outputs": [
        {
          "output_type": "execute_result",
          "data": {
            "text/plain": [
              "[{'cod_customer': 'A100', 'ant_years': 3, 'invoice': 45.6},\n",
              " {'cod_customer': 'A101', 'ant_years': 1, 'invoice': 15.2},\n",
              " {'cod_customer': 'B101', 'ant_years': 5, 'invoice': 28.5},\n",
              " {'cod_customer': 'C102', 'ant_years': 8, 'invoice': 22.3},\n",
              " {'cod_customer': 'D101', 'ant_years': 2, 'invoice': 17.7}]"
            ]
          },
          "metadata": {},
          "execution_count": 54
        }
      ],
      "source": [
        "customers=[\n",
        "    {'cod_customer':'A100', 'ant_years':3, 'invoice': 45.6},\n",
        "    {'cod_customer':'A101', 'ant_years':1, 'invoice': 15.2},\n",
        "    {'cod_customer':'B101', 'ant_years':5, 'invoice': 28.5},\n",
        "    {'cod_customer':'C102', 'ant_years':8, 'invoice': 22.3}\n",
        "    ]\n",
        "customers.append({'cod_customer':'D101', 'ant_years':2, 'invoice': 17.7})\n",
        "customers"
      ]
    },
    {
      "cell_type": "markdown",
      "metadata": {
        "id": "nvfFCljLeqqC"
      },
      "source": [
        "Add for all customers a column named 'customer_type' with value 'A' (for all customers)"
      ]
    },
    {
      "cell_type": "code",
      "execution_count": null,
      "metadata": {
        "colab": {
          "base_uri": "https://localhost:8080/"
        },
        "id": "SXxrP7MheqqC",
        "outputId": "ab0479b1-50a8-47a8-c4c9-d14d235be921"
      },
      "outputs": [
        {
          "output_type": "execute_result",
          "data": {
            "text/plain": [
              "[{'cod_customer': 'A100',\n",
              "  'ant_years': 3,\n",
              "  'invoice': 45.6,\n",
              "  'customer_type': 'A'},\n",
              " {'cod_customer': 'A101',\n",
              "  'ant_years': 1,\n",
              "  'invoice': 15.2,\n",
              "  'customer_type': 'A'},\n",
              " {'cod_customer': 'B101',\n",
              "  'ant_years': 5,\n",
              "  'invoice': 28.5,\n",
              "  'customer_type': 'A'},\n",
              " {'cod_customer': 'C102',\n",
              "  'ant_years': 8,\n",
              "  'invoice': 22.3,\n",
              "  'customer_type': 'A'}]"
            ]
          },
          "metadata": {},
          "execution_count": 69
        }
      ],
      "source": [
        "customers=[\n",
        "    {'cod_customer':'A100', 'ant_years':3, 'invoice': 45.6},\n",
        "    {'cod_customer':'A101', 'ant_years':1, 'invoice': 15.2},\n",
        "    {'cod_customer':'B101', 'ant_years':5, 'invoice': 28.5},\n",
        "    {'cod_customer':'C102', 'ant_years':8, 'invoice': 22.3}\n",
        "    ]\n",
        "for customer in customers:\n",
        "    customer['customer_type']='A'\n",
        "(customers)"
      ]
    }
  ],
  "metadata": {
    "kernelspec": {
      "display_name": "Python 3 (ipykernel)",
      "language": "python",
      "name": "python3"
    },
    "language_info": {
      "codemirror_mode": {
        "name": "ipython",
        "version": 3
      },
      "file_extension": ".py",
      "mimetype": "text/x-python",
      "name": "python",
      "nbconvert_exporter": "python",
      "pygments_lexer": "ipython3",
      "version": "3.10.9"
    },
    "colab": {
      "provenance": [],
      "include_colab_link": true
    }
  },
  "nbformat": 4,
  "nbformat_minor": 0
}