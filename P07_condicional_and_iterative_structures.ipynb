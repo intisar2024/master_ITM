{
  "cells": [
    {
      "cell_type": "markdown",
      "metadata": {
        "id": "view-in-github",
        "colab_type": "text"
      },
      "source": [
        "<a href=\"https://colab.research.google.com/github/intisar2024/master_ITM/blob/main/P07_condicional_and_iterative_structures.ipynb\" target=\"_parent\"><img src=\"https://colab.research.google.com/assets/colab-badge.svg\" alt=\"Open In Colab\"/></a>"
      ]
    },
    {
      "cell_type": "markdown",
      "metadata": {
        "id": "aGczdJnrnSwr"
      },
      "source": [
        "# Working with conditional and iterative structures\n",
        "\n"
      ]
    },
    {
      "cell_type": "markdown",
      "metadata": {
        "id": "KMijSV9InSwt"
      },
      "source": [
        "### Conditional structures"
      ]
    },
    {
      "cell_type": "markdown",
      "metadata": {
        "id": "Hie0MPX5nSwu"
      },
      "source": [
        "Structure __if__ with 2 branches"
      ]
    },
    {
      "cell_type": "code",
      "execution_count": null,
      "metadata": {
        "id": "OeYMIRhonSwv",
        "outputId": "ef26a142-565c-4f96-b88d-d931437418aa"
      },
      "outputs": [
        {
          "name": "stdout",
          "output_type": "stream",
          "text": [
            "underage\n",
            "final\n"
          ]
        }
      ],
      "source": [
        "age = 15\n",
        "if age < 18:\n",
        "    print(\"underage\")\n",
        "else:\n",
        "    print(\"over 18\")\n",
        "print(\"final\")"
      ]
    },
    {
      "cell_type": "code",
      "source": [
        "age=20\n",
        "if age<18:\n",
        "  print(\"underage\")\n",
        "else:\n",
        " print(\"over 18\")\n",
        " print(\"final\")\n",
        "\n"
      ],
      "metadata": {
        "colab": {
          "base_uri": "https://localhost:8080/"
        },
        "id": "txtCfYDIpiJh",
        "outputId": "098972a6-e610-4fd3-b615-0ac94db678b3"
      },
      "execution_count": null,
      "outputs": [
        {
          "output_type": "stream",
          "name": "stdout",
          "text": [
            "over 18\n",
            "final\n"
          ]
        }
      ]
    },
    {
      "cell_type": "markdown",
      "metadata": {
        "id": "hgZK_TQanSwx"
      },
      "source": [
        "Structure __if__ with several branches"
      ]
    },
    {
      "cell_type": "code",
      "execution_count": null,
      "metadata": {
        "id": "sjs46tGonSwx",
        "outputId": "ab60aff4-a0cd-4cd5-b0c1-5cc239906671"
      },
      "outputs": [
        {
          "name": "stdout",
          "output_type": "stream",
          "text": [
            "young\n"
          ]
        }
      ],
      "source": [
        "age = 33\n",
        "if age < 13:\n",
        "    print( \"child\" )\n",
        "elif age < 18:\n",
        "    print( \"teenager\" )\n",
        "elif age < 35:\n",
        "    print( \"young\" )\n",
        "elif age < 55:\n",
        "    print( \"median age\" )\n",
        "elif age < 75:\n",
        "    print( \"old\" )\n",
        "else: print(\"elderly\")"
      ]
    },
    {
      "cell_type": "code",
      "source": [
        "age=80\n",
        "if age<13:\n",
        "  print( \"child\" )\n",
        "elif age<18:\n",
        "  print(\"tenager\")\n",
        "elif age<35:\n",
        "  print(\"young\")\n",
        "elif age<55:\n",
        "  print(\"median age\")\n",
        "elif age<75:\n",
        "  print(\"old\")\n",
        "else:\n",
        "  print(\"elderly\")\n",
        "  print(\"very old\")\n",
        "\n"
      ],
      "metadata": {
        "colab": {
          "base_uri": "https://localhost:8080/"
        },
        "id": "Gqssh9rJschq",
        "outputId": "0a53c629-2c68-4535-db71-1398293e9d72"
      },
      "execution_count": null,
      "outputs": [
        {
          "output_type": "stream",
          "name": "stdout",
          "text": [
            "elderly\n",
            "very old\n"
          ]
        }
      ]
    },
    {
      "cell_type": "code",
      "source": [],
      "metadata": {
        "id": "aLlDLYCbsgxV"
      },
      "execution_count": null,
      "outputs": []
    },
    {
      "cell_type": "markdown",
      "metadata": {
        "id": "KBa_fioWnSwy"
      },
      "source": [
        "Using link operators in conditions"
      ]
    },
    {
      "cell_type": "code",
      "execution_count": null,
      "metadata": {
        "id": "eHbOYFCVnSwy",
        "outputId": "00fea24c-8881-4c15-f602-b2db722e147d"
      },
      "outputs": [
        {
          "name": "stdout",
          "output_type": "stream",
          "text": [
            "condition1\n"
          ]
        }
      ],
      "source": [
        "var1 = 5\n",
        "var2 = 'A'\n",
        "if (var1 == 5) and (var2 == 'A'):\n",
        "    print(\"condition1\")"
      ]
    },
    {
      "cell_type": "code",
      "execution_count": null,
      "metadata": {
        "id": "tmIO-bu9nSwz",
        "outputId": "08df665f-daae-46ff-c625-5ec6e7fab41f"
      },
      "outputs": [
        {
          "name": "stdout",
          "output_type": "stream",
          "text": [
            "condition1\n"
          ]
        }
      ],
      "source": [
        "var1 = 5\n",
        "var2 = 'A'\n",
        "if (var1 == 5) & (var2 == 'A'):\n",
        "    print(\"condition1\")"
      ]
    },
    {
      "cell_type": "code",
      "execution_count": null,
      "metadata": {
        "id": "1PlZSKXFnSw0",
        "outputId": "92a6d183-77f4-4b13-8781-d7b4b0c45572"
      },
      "outputs": [
        {
          "name": "stdout",
          "output_type": "stream",
          "text": [
            "condition1\n"
          ]
        }
      ],
      "source": [
        "var1 = 5\n",
        "var2 = 'A'\n",
        "if (var1 == 5) or (var2 == 'B'):\n",
        "    print(\"condition1\")"
      ]
    },
    {
      "cell_type": "code",
      "execution_count": null,
      "metadata": {
        "id": "soXK5R4wnSw1",
        "outputId": "0ecdd5b1-461e-4f58-b637-3e53565a95bf"
      },
      "outputs": [
        {
          "name": "stdout",
          "output_type": "stream",
          "text": [
            "condition1\n"
          ]
        }
      ],
      "source": [
        "var1 = 5\n",
        "var2 = 'A'\n",
        "if (var1 == 5) | (var2 == 'B'):\n",
        "    print(\"condition1\")"
      ]
    },
    {
      "cell_type": "code",
      "execution_count": null,
      "metadata": {
        "id": "zvQoSNTWnSw1",
        "outputId": "f85f41a8-6123-4cf5-92dd-73e0e78b2577"
      },
      "outputs": [
        {
          "name": "stdout",
          "output_type": "stream",
          "text": [
            "condition1\n"
          ]
        }
      ],
      "source": [
        "var1 = 5\n",
        "var2 = 'A'\n",
        "if all([var1 == 5 , var2 == 'A']):\n",
        "    print(\"condition1\")"
      ]
    },
    {
      "cell_type": "code",
      "execution_count": null,
      "metadata": {
        "id": "U19y3wulnSw2",
        "outputId": "ad92ddc2-3a2b-477e-b771-f6a9e8b9aeff"
      },
      "outputs": [
        {
          "name": "stdout",
          "output_type": "stream",
          "text": [
            "condition1\n"
          ]
        }
      ],
      "source": [
        "var1 = 5\n",
        "var2 = 'A'\n",
        "listacond = [var1 == 5 , var2 == 'A']\n",
        "if all(listacond):\n",
        "    print(\"condition1\")"
      ]
    },
    {
      "cell_type": "code",
      "execution_count": null,
      "metadata": {
        "id": "cCwbMrR1nSw2",
        "outputId": "abdb1ddb-6633-4416-8951-484dbe501627"
      },
      "outputs": [
        {
          "name": "stdout",
          "output_type": "stream",
          "text": [
            "condition1\n"
          ]
        }
      ],
      "source": [
        "var1 = 5\n",
        "var2 = 'A'\n",
        "if any([var1 == 5 , var2 == 'B']):\n",
        "    print(\"condition1\")"
      ]
    },
    {
      "cell_type": "markdown",
      "metadata": {
        "id": "p515x26tnSw3"
      },
      "source": [
        "Another way is to write the conditionals"
      ]
    },
    {
      "cell_type": "code",
      "execution_count": null,
      "metadata": {
        "scrolled": true,
        "id": "UHjCntY_nSw3",
        "outputId": "e2ddf404-0510-411a-a1f7-7e4c87a77fe8"
      },
      "outputs": [
        {
          "data": {
            "text/plain": [
              "'Under 18'"
            ]
          },
          "execution_count": 11,
          "metadata": {},
          "output_type": "execute_result"
        }
      ],
      "source": [
        "age = 10\n",
        "res = \"Over 18\" if age >= 18 else \"Under 18\"\n",
        "res"
      ]
    },
    {
      "cell_type": "code",
      "execution_count": null,
      "metadata": {
        "id": "lZPXQXTGnSw3",
        "outputId": "26ff1ef3-7f95-418f-b6dc-9028f424ab35"
      },
      "outputs": [
        {
          "data": {
            "text/plain": [
              "'Under 18'"
            ]
          },
          "execution_count": 12,
          "metadata": {},
          "output_type": "execute_result"
        }
      ],
      "source": [
        "age = 10\n",
        "if age >= 18:\n",
        "    res = \"Over 18\"\n",
        "else:\n",
        "    res = \"Under 18\"\n",
        "res"
      ]
    },
    {
      "cell_type": "code",
      "execution_count": null,
      "metadata": {
        "id": "z8WPm05onSw4"
      },
      "outputs": [],
      "source": [
        "a = 10\n",
        "if a > 10 and a < 30:\n",
        "    print(\"OK\")"
      ]
    },
    {
      "cell_type": "code",
      "source": [
        "a = 20\n",
        "if a > 10 and a < 30:\n",
        "    print(\"OK\")"
      ],
      "metadata": {
        "colab": {
          "base_uri": "https://localhost:8080/"
        },
        "id": "hSP0hNSVwlkN",
        "outputId": "ed91cb7d-609c-43c2-f8cf-7e52c35252aa"
      },
      "execution_count": null,
      "outputs": [
        {
          "output_type": "stream",
          "name": "stdout",
          "text": [
            "OK\n"
          ]
        }
      ]
    },
    {
      "cell_type": "code",
      "execution_count": null,
      "metadata": {
        "id": "0IbiIshInSw4"
      },
      "outputs": [],
      "source": [
        "if 10 < a < 30:\n",
        "    print(\"OK\")"
      ]
    },
    {
      "cell_type": "markdown",
      "metadata": {
        "id": "0UsXFJdhnSw4"
      },
      "source": [
        "Creating conditionals using dictionaries"
      ]
    },
    {
      "cell_type": "code",
      "execution_count": null,
      "metadata": {
        "id": "NIHGQ6wHnSw5"
      },
      "outputs": [],
      "source": [
        "customer_type = 'j'"
      ]
    },
    {
      "cell_type": "code",
      "execution_count": null,
      "metadata": {
        "id": "zwPb1yRBnSw5",
        "outputId": "bfafccce-d6cd-4f4d-f8a0-a444cdc4b0ea"
      },
      "outputs": [
        {
          "data": {
            "text/plain": [
              "4"
            ]
          },
          "execution_count": 16,
          "metadata": {},
          "output_type": "execute_result"
        }
      ],
      "source": [
        "if customer_type == 'A':\n",
        "    segmento = 1\n",
        "elif customer_type == 'B':\n",
        "    segmento = 2\n",
        "elif customer_type == 'C':\n",
        "    segmento = 3\n",
        "else:\n",
        "    segmento = 4\n",
        "segmento"
      ]
    },
    {
      "cell_type": "code",
      "execution_count": null,
      "metadata": {
        "id": "KZSZs8X-nSw5",
        "outputId": "3fd98556-4470-4fcc-8a31-9862773f3bed"
      },
      "outputs": [
        {
          "data": {
            "text/plain": [
              "4"
            ]
          },
          "execution_count": 17,
          "metadata": {},
          "output_type": "execute_result"
        }
      ],
      "source": [
        "dicseg = {'A':1, 'B':2, 'C':3}\n",
        "if customer_type in dicseg:\n",
        "    segment = dicseg[customer_type]\n",
        "else:\n",
        "    segment = 4\n",
        "segment"
      ]
    },
    {
      "cell_type": "code",
      "source": [
        "customer_type = 5\n",
        "dicseg = {'j':1, 'B':2, 'C':3}\n",
        "if customer_type in dicseg:\n",
        "   segment = dicseg[customer_type]\n",
        "else:\n",
        "    segment=4\n",
        "    print(segment)\n",
        "\n",
        "\n"
      ],
      "metadata": {
        "colab": {
          "base_uri": "https://localhost:8080/"
        },
        "id": "3CabjuxmyT2Y",
        "outputId": "86c2bf12-f670-444e-b904-dff8614aae7c"
      },
      "execution_count": null,
      "outputs": [
        {
          "output_type": "stream",
          "name": "stdout",
          "text": [
            "4\n"
          ]
        }
      ]
    },
    {
      "cell_type": "markdown",
      "metadata": {
        "id": "hswnWcPrnSw5"
      },
      "source": [
        "Since version 3.10 we have the match - case structure"
      ]
    },
    {
      "cell_type": "code",
      "execution_count": null,
      "metadata": {
        "id": "KiQ02ugnnSw6",
        "outputId": "023a29b7-519d-4e25-f035-b18434351bc0"
      },
      "outputs": [
        {
          "data": {
            "text/plain": [
              "sys.version_info(major=3, minor=10, micro=9, releaselevel='final', serial=0)"
            ]
          },
          "execution_count": 18,
          "metadata": {},
          "output_type": "execute_result"
        }
      ],
      "source": [
        "import sys\n",
        "sys.version_info"
      ]
    },
    {
      "cell_type": "code",
      "execution_count": null,
      "metadata": {
        "id": "XCOVM25bnSw6",
        "outputId": "0ddd3fdf-c4c2-474e-b640-07ebd26cde3c"
      },
      "outputs": [
        {
          "name": "stdout",
          "output_type": "stream",
          "text": [
            "No match found\n"
          ]
        }
      ],
      "source": [
        "var = 'Hello'\n",
        "match var:\n",
        "    case 'Hello, World!':\n",
        "        print('Hello to you too!')\n",
        "    case 'Goodbye, World!':\n",
        "        print('See you later')\n",
        "    case other:\n",
        "        print('No match found')"
      ]
    },
    {
      "cell_type": "markdown",
      "metadata": {
        "id": "rIAnNFC9nSw6"
      },
      "source": [
        "## Loops"
      ]
    },
    {
      "cell_type": "markdown",
      "metadata": {
        "id": "0JOPcqJlnSw6"
      },
      "source": [
        "Example of __loops__: working with __lists__"
      ]
    },
    {
      "cell_type": "code",
      "execution_count": null,
      "metadata": {
        "id": "B5XV5TSKnSw6",
        "outputId": "b20a2390-a0fa-4e4c-d84a-591913623de9"
      },
      "outputs": [
        {
          "name": "stdout",
          "output_type": "stream",
          "text": [
            "1\n",
            "2\n",
            "3\n",
            "4\n",
            "5\n",
            "6\n",
            "7\n",
            "8\n",
            "36\n"
          ]
        }
      ],
      "source": [
        "list1 = [1,2,3,4,5,6,7,8]\n",
        "accum = 0\n",
        "for val in list1:\n",
        "    print(val)\n",
        "    accum = accum + val\n",
        "print(accum)"
      ]
    },
    {
      "cell_type": "code",
      "source": [
        "str1=\"intesar ali\"\n",
        "for val in str1:\n",
        " print(val)"
      ],
      "metadata": {
        "colab": {
          "base_uri": "https://localhost:8080/"
        },
        "id": "ikKaNFNz_fHQ",
        "outputId": "82adab0e-021d-4bee-81d3-b59f95489baa"
      },
      "execution_count": null,
      "outputs": [
        {
          "output_type": "stream",
          "name": "stdout",
          "text": [
            "i\n",
            "n\n",
            "t\n",
            "e\n",
            "s\n",
            "a\n",
            "r\n",
            " \n",
            "a\n",
            "l\n",
            "i\n"
          ]
        }
      ]
    },
    {
      "cell_type": "markdown",
      "metadata": {
        "id": "U4gW2KJCnSw7"
      },
      "source": [
        "Starting from the following list of dictionaries, we add a new field to all dictionaries"
      ]
    },
    {
      "cell_type": "code",
      "execution_count": null,
      "metadata": {
        "id": "tYRtSDmwnSw7",
        "outputId": "490cfecb-0517-4dfb-fb7f-c647c0e3bfea"
      },
      "outputs": [
        {
          "data": {
            "text/plain": [
              "[{'cod_customer': 'A100', 'ant': 3, 'invoice': 45.6},\n",
              " {'cod_customer': 'A101', 'ant': 1, 'invoice': 15.2},\n",
              " {'cod_customer': 'B101', 'ant': 5, 'invoice': 28.5},\n",
              " {'cod_customer': 'C102', 'ant': 8, 'invoice': 22.3}]"
            ]
          },
          "execution_count": 22,
          "metadata": {},
          "output_type": "execute_result"
        }
      ],
      "source": [
        "customers = [\n",
        "{'cod_customer':'A100', 'ant':3, 'invoice': 45.6},\n",
        "{'cod_customer':'A101', 'ant':1, 'invoice': 15.2},\n",
        "{'cod_customer':'B101', 'ant':5, 'invoice': 28.5},\n",
        "{'cod_customer':'C102', 'ant':8, 'invoice': 22.3}\n",
        "]\n",
        "customers"
      ]
    },
    {
      "cell_type": "code",
      "execution_count": null,
      "metadata": {
        "id": "11XB9XrznSw8",
        "outputId": "ed45cd58-864c-4dcf-f4ef-9ee3a617099c"
      },
      "outputs": [
        {
          "data": {
            "text/plain": [
              "dict"
            ]
          },
          "execution_count": 23,
          "metadata": {},
          "output_type": "execute_result"
        }
      ],
      "source": [
        "type(customers[0])"
      ]
    },
    {
      "cell_type": "code",
      "execution_count": null,
      "metadata": {
        "id": "-TUV-qY0nSw8",
        "outputId": "ad789e23-7601-45ba-cb89-56191ae7eef0"
      },
      "outputs": [
        {
          "name": "stdout",
          "output_type": "stream",
          "text": [
            "A100\n",
            "<class 'dict'>\n",
            "A101\n",
            "<class 'dict'>\n",
            "B101\n",
            "<class 'dict'>\n",
            "C102\n",
            "<class 'dict'>\n"
          ]
        }
      ],
      "source": [
        "for cli in customers:\n",
        "    print(cli['cod_customer'])\n",
        "    print(type(cli))"
      ]
    },
    {
      "cell_type": "code",
      "source": [
        "customers = [\n",
        "{'cod_customer':'A100', 'ant':3, 'invoice': 45.6},\n",
        "{'cod_customer':'A101', 'ant':1, 'invoice': 15.2},\n",
        "{'cod_customer':'B101', 'ant':5, 'invoice': 28.5},\n",
        "{'cod_customer':'C102', 'ant':8, 'invoice': 22.3}\n",
        "]\n",
        "for cli in customers:\n",
        "    print (cli[\"ant\"], type(cli))\n"
      ],
      "metadata": {
        "colab": {
          "base_uri": "https://localhost:8080/"
        },
        "id": "wp_sANc9Bl6J",
        "outputId": "95829f0e-c358-4880-de50-f6ea58917520"
      },
      "execution_count": null,
      "outputs": [
        {
          "output_type": "stream",
          "name": "stdout",
          "text": [
            "3 <class 'dict'>\n",
            "1 <class 'dict'>\n",
            "5 <class 'dict'>\n",
            "8 <class 'dict'>\n"
          ]
        }
      ]
    },
    {
      "cell_type": "code",
      "source": [
        "customers = [\n",
        "{'cod_customer':'A100', 'ant':3, 'invoice': 45.6},\n",
        "{'cod_customer':'A101', 'ant':1, 'invoice': 15.2},\n",
        "{'cod_customer':'B101', 'ant':5, 'invoice': 28.5},\n",
        "{'cod_customer':'C102', 'ant':8, 'invoice': 22.3}\n",
        "]\n",
        "for cli in customers:\n",
        "  print(cli[\"invoice\"],type(cli))"
      ],
      "metadata": {
        "colab": {
          "base_uri": "https://localhost:8080/"
        },
        "id": "Pa8wjBoZEr5O",
        "outputId": "0ea9f4c3-a18a-4256-94ed-fd7c452e6091"
      },
      "execution_count": null,
      "outputs": [
        {
          "output_type": "stream",
          "name": "stdout",
          "text": [
            "45.6 <class 'dict'>\n",
            "15.2 <class 'dict'>\n",
            "28.5 <class 'dict'>\n",
            "22.3 <class 'dict'>\n"
          ]
        }
      ]
    },
    {
      "cell_type": "code",
      "source": [
        "customers = [\n",
        "{'cod_customer':'A100', 'ant':3, 'invoice': 45.6},\n",
        "{'cod_customer':'A101', 'ant':1, 'invoice': 15.2},\n",
        "{'cod_customer':'B101', 'ant':5, 'invoice': 28.5},\n",
        "{'cod_customer':'C102', 'ant':8, 'invoice': 22.3}\n",
        "]\n",
        "for cli in customers:\n",
        "    if cli['cod_customer']=='A100':\n",
        "     cli['invoice']=100\n",
        "customers\n"
      ],
      "metadata": {
        "colab": {
          "base_uri": "https://localhost:8080/"
        },
        "id": "eKC8btdTFVLW",
        "outputId": "a37f7b65-b7b2-42dd-cdbc-80d6eb67cab4"
      },
      "execution_count": null,
      "outputs": [
        {
          "output_type": "execute_result",
          "data": {
            "text/plain": [
              "[{'cod_customer': 'A100', 'ant': 3, 'invoice': 100},\n",
              " {'cod_customer': 'A101', 'ant': 1, 'invoice': 15.2},\n",
              " {'cod_customer': 'B101', 'ant': 5, 'invoice': 28.5},\n",
              " {'cod_customer': 'C102', 'ant': 8, 'invoice': 22.3}]"
            ]
          },
          "metadata": {},
          "execution_count": 37
        }
      ]
    },
    {
      "cell_type": "code",
      "source": [
        "customers = [\n",
        "{'cod_customer':'A100', 'ant':3, 'invoice': 45.6},\n",
        "{'cod_customer':'A101', 'ant':1, 'invoice': 15.2},\n",
        "{'cod_customer':'B101', 'ant':5, 'invoice': 28.5},\n",
        "{'cod_customer':'C102', 'ant':8, 'invoice': 22.3}\n",
        "]\n",
        "for cli in customers:\n",
        "    if cli['cod_customer']=='A100':\n",
        "       cli['invoice']=100\n",
        "    else: cli['ant']=10\n",
        "customers"
      ],
      "metadata": {
        "colab": {
          "base_uri": "https://localhost:8080/"
        },
        "id": "-6Q8xC8oYGL9",
        "outputId": "fcfd0c76-6932-4ec7-b12b-85f0ec311373"
      },
      "execution_count": null,
      "outputs": [
        {
          "output_type": "execute_result",
          "data": {
            "text/plain": [
              "[{'cod_customer': 'A100', 'ant': 3, 'invoice': 100},\n",
              " {'cod_customer': 'A101', 'ant': 10, 'invoice': 15.2},\n",
              " {'cod_customer': 'B101', 'ant': 10, 'invoice': 28.5},\n",
              " {'cod_customer': 'C102', 'ant': 10, 'invoice': 22.3}]"
            ]
          },
          "metadata": {},
          "execution_count": 46
        }
      ]
    },
    {
      "cell_type": "code",
      "execution_count": null,
      "metadata": {
        "id": "jk8qPAlTnSw9",
        "outputId": "797c5499-d088-4cff-c282-2684cd51c538"
      },
      "outputs": [
        {
          "name": "stdout",
          "output_type": "stream",
          "text": [
            "111.6\n"
          ]
        }
      ],
      "source": [
        "accum_invoice = 0\n",
        "for cli in customers:\n",
        "    accum_invoice = accum_invoice + cli['invoice']\n",
        "print(accum_invoice)"
      ]
    },
    {
      "cell_type": "code",
      "execution_count": null,
      "metadata": {
        "id": "u_ANMGEOnSw9",
        "outputId": "f085ed23-0a7b-4e48-e375-f1ad9ace7a45"
      },
      "outputs": [
        {
          "data": {
            "text/plain": [
              "[{'cod_customer': 'A100', 'ant': 3, 'invoice': 45.6},\n",
              " {'cod_customer': 'A101', 'ant': 1, 'invoice': 15.2},\n",
              " {'cod_customer': 'B101', 'ant': 5, 'invoice': 28.5},\n",
              " {'cod_customer': 'C102', 'ant': 8, 'invoice': 22.3}]"
            ]
          },
          "execution_count": 26,
          "metadata": {},
          "output_type": "execute_result"
        }
      ],
      "source": [
        "customers"
      ]
    },
    {
      "cell_type": "code",
      "execution_count": null,
      "metadata": {
        "id": "rhzIkoUDnSw-",
        "outputId": "f9ab218f-42ad-46bb-d2d1-7645aba71447"
      },
      "outputs": [
        {
          "name": "stdout",
          "output_type": "stream",
          "text": [
            "B101\n",
            "C102\n"
          ]
        },
        {
          "data": {
            "text/plain": [
              "['B101', 'C102']"
            ]
          },
          "execution_count": 27,
          "metadata": {},
          "output_type": "execute_result"
        }
      ],
      "source": [
        "lis_cli2 = []\n",
        "for cli in customers:\n",
        "    if cli['ant'] >= 4 and cli['invoice'] >= 15:\n",
        "        print(cli['cod_customer'])\n",
        "        lis_cli2.append(cli['cod_customer'])\n",
        "lis_cli2"
      ]
    },
    {
      "cell_type": "code",
      "execution_count": null,
      "metadata": {
        "id": "8r-KukXAnSw-",
        "outputId": "7cc26012-d51c-47cb-ba38-be574e679f31"
      },
      "outputs": [
        {
          "data": {
            "text/plain": [
              "[{'cod_cliente': 'A100', 'ant': 3, 'consumo': 45.6},\n",
              " {'cod_cliente': 'A101', 'ant': 1, 'consumo': 15.2},\n",
              " {'cod_cliente': 'B101', 'ant': 5, 'consumo': 28.5},\n",
              " {'cod_cliente': 'C102', 'ant': 8, 'consumo': 22.3}]"
            ]
          },
          "execution_count": 39,
          "metadata": {},
          "output_type": "execute_result"
        }
      ],
      "source": [
        "customers"
      ]
    },
    {
      "cell_type": "code",
      "execution_count": null,
      "metadata": {
        "id": "_hkfohTknSw_",
        "outputId": "b09901f3-f4f7-4c99-85c9-6a2f1f94e33e"
      },
      "outputs": [
        {
          "data": {
            "text/plain": [
              "[{'cod_customer': 'A100', 'ant': 3, 'invoice': 45.6, 'customer_type': 'A'},\n",
              " {'cod_customer': 'A101', 'ant': 1, 'invoice': 15.2, 'customer_type': 'B'},\n",
              " {'cod_customer': 'B101', 'ant': 5, 'invoice': 28.5, 'customer_type': 'B'},\n",
              " {'cod_customer': 'C102', 'ant': 8, 'invoice': 22.3, 'customer_type': 'B'}]"
            ]
          },
          "execution_count": 28,
          "metadata": {},
          "output_type": "execute_result"
        }
      ],
      "source": [
        "for cli in customers:\n",
        "    if cli['invoice'] >= 30:\n",
        "        cli['customer_type'] = 'A'\n",
        "    else:\n",
        "        cli['customer_type'] = 'B'\n",
        "customers"
      ]
    },
    {
      "cell_type": "markdown",
      "metadata": {
        "id": "y3h6L37wnSw_"
      },
      "source": [
        "Instructions __break__ and __continue__."
      ]
    },
    {
      "cell_type": "code",
      "execution_count": null,
      "metadata": {
        "id": "3Tqv9zFunSxP",
        "outputId": "c6e8225e-b470-4d30-e14c-38a721a0e041"
      },
      "outputs": [
        {
          "name": "stdout",
          "output_type": "stream",
          "text": [
            "2\n",
            "4\n",
            "6\n",
            "8\n",
            "10\n"
          ]
        }
      ],
      "source": [
        "list2 = [2,4,5,6,7,8,10]\n",
        "for val in list2:\n",
        "    if val%2 > 0: # if not an even value skip to the next one\n",
        "        continue\n",
        "    print(val)"
      ]
    },
    {
      "cell_type": "code",
      "execution_count": null,
      "metadata": {
        "id": "YcwPCZu2nSxQ",
        "outputId": "900283b1-d68e-4392-851d-22c09b69b21f"
      },
      "outputs": [
        {
          "name": "stdout",
          "output_type": "stream",
          "text": [
            "2\n",
            "4\n"
          ]
        }
      ],
      "source": [
        "for val in list2:\n",
        "    if val%2 > 0: # if not an even value interrupts the loop\n",
        "        break\n",
        "    print(val)"
      ]
    },
    {
      "cell_type": "markdown",
      "metadata": {
        "id": "U-kETJaCnSxQ"
      },
      "source": [
        "Use of __ranges__"
      ]
    },
    {
      "cell_type": "code",
      "execution_count": null,
      "metadata": {
        "id": "nMDlddx1nSxQ",
        "outputId": "9f2b31db-3e5a-4f8b-ce7e-21efa2dd8641"
      },
      "outputs": [
        {
          "data": {
            "text/plain": [
              "[1, 2, 3, 4, 5, 6, 7, 8, 9]"
            ]
          },
          "execution_count": 31,
          "metadata": {},
          "output_type": "execute_result"
        }
      ],
      "source": [
        "list(range(1,10,1))"
      ]
    },
    {
      "cell_type": "code",
      "execution_count": null,
      "metadata": {
        "id": "Z6jQGGJEnSxR",
        "outputId": "f51746db-179a-4ea2-a470-c2e632a0e6e0"
      },
      "outputs": [
        {
          "name": "stdout",
          "output_type": "stream",
          "text": [
            "1\n",
            "3\n",
            "5\n",
            "7\n",
            "9\n",
            "11\n",
            "13\n",
            "15\n",
            "17\n",
            "19\n"
          ]
        }
      ],
      "source": [
        "for i in range(1,20,2):\n",
        "    # loop prints 1 3 5 7 9 ...\n",
        "    print(i)"
      ]
    },
    {
      "cell_type": "code",
      "execution_count": null,
      "metadata": {
        "id": "BezzUtchnSxR",
        "outputId": "36bad952-b02f-416b-fd19-9bee000ec751"
      },
      "outputs": [
        {
          "name": "stdout",
          "output_type": "stream",
          "text": [
            "1\n",
            "3\n",
            "5\n",
            "7\n",
            "9\n",
            "11\n",
            "13\n",
            "15\n",
            "17\n",
            "19\n",
            "0\n",
            "-1\n",
            "-2\n",
            "-3\n",
            "-4\n",
            "-5\n",
            "-6\n",
            "-7\n",
            "-8\n",
            "-9\n"
          ]
        },
        {
          "data": {
            "text/plain": [
              "[1, 3, 5, 7, 9]"
            ]
          },
          "execution_count": 33,
          "metadata": {},
          "output_type": "execute_result"
        }
      ],
      "source": [
        "for i in range(1,20,2):\n",
        "    # loop prints 1 3 5 7 9\n",
        "    print(i)\n",
        "\n",
        "for i in range(0,-10,-1):\n",
        "    print(i)\n",
        "\n",
        "lis1 = list(range(1,10,2))\n",
        "lis1"
      ]
    },
    {
      "cell_type": "markdown",
      "metadata": {
        "id": "Er_2buEonSxR"
      },
      "source": [
        "Example loop that iterate list of lists"
      ]
    },
    {
      "cell_type": "code",
      "execution_count": null,
      "metadata": {
        "id": "2W2QVh5InSxR",
        "outputId": "92feda3d-e887-414d-c0ba-c516c4891b88"
      },
      "outputs": [
        {
          "data": {
            "text/plain": [
              "[['type 1', 1],\n",
              " ['type 1', 2],\n",
              " ['type 3', 4],\n",
              " ['type 1', 2],\n",
              " ['type 2', 2],\n",
              " ['type 4', 3],\n",
              " ['type 3', 1]]"
            ]
          },
          "execution_count": 34,
          "metadata": {},
          "output_type": "execute_result"
        }
      ],
      "source": [
        "list1 = [['type 1', 1],['type 1', 2],['type 3', 4],['type 1', 2],['type 2', 2],['type 4', 3],['type 3', 1]]\n",
        "list1"
      ]
    },
    {
      "cell_type": "markdown",
      "metadata": {
        "id": "5_VUB2u_nSxS"
      },
      "source": [
        "Count those of a specific type"
      ]
    },
    {
      "cell_type": "code",
      "execution_count": null,
      "metadata": {
        "id": "ruqp8p1xnSxS",
        "outputId": "1794cbb1-4ff3-4756-b46b-cad6acd20cc9"
      },
      "outputs": [
        {
          "name": "stdout",
          "output_type": "stream",
          "text": [
            "['type 1', 1]\n",
            "['type 1', 2]\n",
            "['type 3', 4]\n",
            "['type 1', 2]\n",
            "['type 2', 2]\n",
            "['type 4', 3]\n",
            "['type 3', 1]\n"
          ]
        },
        {
          "data": {
            "text/plain": [
              "5"
            ]
          },
          "execution_count": 35,
          "metadata": {},
          "output_type": "execute_result"
        }
      ],
      "source": [
        "sum = 0\n",
        "for lisitem in list1:\n",
        "    print(lisitem)\n",
        "    if lisitem[0]=='type 1':\n",
        "        sum = sum + lisitem[1]\n",
        "sum"
      ]
    },
    {
      "cell_type": "markdown",
      "metadata": {
        "id": "8-GuSi6HnSxS"
      },
      "source": [
        "Nested loops"
      ]
    },
    {
      "cell_type": "code",
      "execution_count": null,
      "metadata": {
        "id": "vy-YyDNOnSxT",
        "outputId": "b00bf67a-cfde-4487-98bd-336879ca2103"
      },
      "outputs": [
        {
          "name": "stdout",
          "output_type": "stream",
          "text": [
            "Madrid\n",
            "M\n",
            "a\n",
            "d\n",
            "r\n",
            "i\n",
            "d\n",
            "Murcia\n",
            "M\n",
            "u\n",
            "r\n",
            "c\n",
            "i\n",
            "a\n",
            "Valladolid\n",
            "V\n",
            "a\n",
            "l\n",
            "l\n",
            "a\n",
            "d\n",
            "o\n",
            "l\n",
            "i\n",
            "d\n"
          ]
        }
      ],
      "source": [
        "listc = [\"Madrid\", \"Murcia\", \"Valladolid\"]\n",
        "for city in listc:\n",
        "    print(city)\n",
        "    for c in city:\n",
        "        print(c)"
      ]
    },
    {
      "cell_type": "code",
      "execution_count": null,
      "metadata": {
        "id": "EP_rC7i6nSxT",
        "outputId": "7c235736-ab64-48d4-8dfc-a9b1ad473699"
      },
      "outputs": [
        {
          "name": "stdout",
          "output_type": "stream",
          "text": [
            "list1 [1, 2, 3]\n",
            "item 1\n",
            "item 2\n",
            "item 3\n",
            "list1 ['a', 'b', 'c']\n",
            "item a\n",
            "item b\n",
            "item c\n"
          ]
        }
      ],
      "source": [
        "list1 = [[1,2,3],['a','b','c']]\n",
        "for lis in list1:\n",
        "    print(\"list1\", lis)\n",
        "    for item in lis:\n",
        "        print(\"item\", item)"
      ]
    },
    {
      "cell_type": "markdown",
      "metadata": {
        "id": "vIHKeJaGnSxT"
      },
      "source": [
        "Loops that work with two vales in each iteration"
      ]
    },
    {
      "cell_type": "code",
      "execution_count": null,
      "metadata": {
        "id": "JwB0ttcKnSxU",
        "outputId": "90fcd45a-a002-412c-9e72-119a4697d0fe"
      },
      "outputs": [
        {
          "data": {
            "text/plain": [
              "['Madrid', 'Murcia', 'Valladolid']"
            ]
          },
          "execution_count": 41,
          "metadata": {},
          "output_type": "execute_result"
        }
      ],
      "source": [
        "listc"
      ]
    },
    {
      "cell_type": "code",
      "execution_count": null,
      "metadata": {
        "id": "A8htg_9znSxU",
        "outputId": "f0fdf089-ed1d-43bb-99d5-4af2d9e65712"
      },
      "outputs": [
        {
          "data": {
            "text/plain": [
              "[(0, 'Madrid'), (1, 'Murcia'), (2, 'Valladolid')]"
            ]
          },
          "execution_count": 42,
          "metadata": {},
          "output_type": "execute_result"
        }
      ],
      "source": [
        "list(enumerate(listc))"
      ]
    },
    {
      "cell_type": "code",
      "execution_count": null,
      "metadata": {
        "scrolled": true,
        "id": "auiv4FzdnSxV",
        "outputId": "7519d9aa-161d-4066-ecb4-767cf742c1e0"
      },
      "outputs": [
        {
          "name": "stdout",
          "output_type": "stream",
          "text": [
            "0 Madrid\n",
            "1 Murcia\n",
            "2 Valladolid\n"
          ]
        }
      ],
      "source": [
        "# The enumerate function generates an index\n",
        "for i, val in enumerate(listc):\n",
        "    print(i,val)"
      ]
    },
    {
      "cell_type": "code",
      "execution_count": null,
      "metadata": {
        "id": "38ZXWzsUnSxV",
        "outputId": "8efd6e9a-dc28-4a46-e7dc-c26c11dd4a67"
      },
      "outputs": [
        {
          "name": "stdout",
          "output_type": "stream",
          "text": [
            "(0, 'Madrid')\n",
            "(1, 'Murcia')\n",
            "(2, 'Valladolid')\n"
          ]
        }
      ],
      "source": [
        "for val in enumerate(listc):\n",
        "    print(val)"
      ]
    },
    {
      "cell_type": "code",
      "execution_count": null,
      "metadata": {
        "id": "3gkk9lM1nSxV",
        "outputId": "5bab0de1-6600-4bc4-f35b-41f28aa1c9d2"
      },
      "outputs": [
        {
          "data": {
            "text/plain": [
              "[('a', 1, 10), ('b', 2, 20), ('c', 3, 30)]"
            ]
          },
          "execution_count": 46,
          "metadata": {},
          "output_type": "execute_result"
        }
      ],
      "source": [
        "lis3 = [('a',1,10), ('b',2,20), ('c',3,30)]\n",
        "lis3"
      ]
    },
    {
      "cell_type": "code",
      "execution_count": null,
      "metadata": {
        "id": "VEVnESXknSxV",
        "outputId": "20057617-0aba-4af8-bfe9-2cf7aef405ed"
      },
      "outputs": [
        {
          "name": "stdout",
          "output_type": "stream",
          "text": [
            "a 1 10\n",
            "b 2 20\n",
            "c 3 30\n"
          ]
        }
      ],
      "source": [
        "for i, j, k in lis3:\n",
        "    print(i,j,k)"
      ]
    },
    {
      "cell_type": "markdown",
      "metadata": {
        "id": "uymjuNO0nSxW"
      },
      "source": [
        "type __while__ loops"
      ]
    },
    {
      "cell_type": "code",
      "execution_count": null,
      "metadata": {
        "id": "_VN0OwVhnSxW",
        "outputId": "79d31208-8afe-46e7-a3c2-e1c584acf5eb"
      },
      "outputs": [
        {
          "name": "stdout",
          "output_type": "stream",
          "text": [
            "1\n",
            "2\n",
            "3\n",
            "4\n",
            "5\n",
            "6\n",
            "7\n",
            "8\n",
            "9\n",
            "10\n"
          ]
        }
      ],
      "source": [
        "a = 1\n",
        "while a <= 10:\n",
        "    print(a)\n",
        "    a+=1"
      ]
    },
    {
      "cell_type": "markdown",
      "metadata": {
        "id": "S6u2WO0fnSxW"
      },
      "source": [
        "From the current date obtain the following 10 days"
      ]
    },
    {
      "cell_type": "code",
      "execution_count": null,
      "metadata": {
        "id": "jDMIg9XXnSxW",
        "outputId": "ff4b7d54-635f-4f2d-ba7a-383dcf8c3c9e"
      },
      "outputs": [
        {
          "name": "stdout",
          "output_type": "stream",
          "text": [
            "2024-03-25\n"
          ]
        }
      ],
      "source": [
        "from datetime import date\n",
        "from datetime import datetime\n",
        "from datetime import timedelta\n",
        "date_ini = date.today()\n",
        "print(date_ini)"
      ]
    },
    {
      "cell_type": "code",
      "execution_count": null,
      "metadata": {
        "id": "ugxHd5lxnSxX",
        "outputId": "dbfbc876-2756-4ba1-f406-5f3ecc3446f1"
      },
      "outputs": [
        {
          "name": "stdout",
          "output_type": "stream",
          "text": [
            "1\n",
            "2024-03-26\n",
            "2\n",
            "2024-03-27\n",
            "3\n",
            "2024-03-28\n",
            "4\n",
            "2024-03-29\n",
            "5\n",
            "2024-03-30\n",
            "6\n",
            "2024-03-31\n",
            "7\n",
            "2024-04-01\n",
            "8\n",
            "2024-04-02\n",
            "9\n",
            "2024-04-03\n",
            "10\n",
            "2024-04-04\n"
          ]
        }
      ],
      "source": [
        "i = 0\n",
        "while i < 10:\n",
        "    i+=1\n",
        "    date = date_ini + timedelta(days=i)\n",
        "    print(i)\n",
        "    print(date)"
      ]
    },
    {
      "cell_type": "code",
      "execution_count": null,
      "metadata": {
        "id": "Kj0dEAwXnSxX",
        "outputId": "14f2192a-6db6-4e00-c0ee-0f17b5b381f7"
      },
      "outputs": [
        {
          "name": "stdout",
          "output_type": "stream",
          "text": [
            "1\n",
            "2024-03-26\n",
            "2\n",
            "2024-03-27\n",
            "3\n",
            "2024-03-28\n",
            "4\n",
            "2024-03-29\n",
            "5\n",
            "2024-03-30\n",
            "6\n",
            "2024-03-31\n",
            "7\n",
            "2024-04-01\n",
            "8\n",
            "2024-04-02\n",
            "9\n",
            "2024-04-03\n",
            "10\n",
            "2024-04-04\n"
          ]
        }
      ],
      "source": [
        "for i in range(1,11,1):\n",
        "    print(i)\n",
        "    date = date_ini + timedelta(days=i)\n",
        "    print(date)"
      ]
    },
    {
      "cell_type": "markdown",
      "metadata": {
        "id": "xuS8PFvrnSxX"
      },
      "source": [
        "From a specific date to get every day of the month until change of month, excluding weekends"
      ]
    },
    {
      "cell_type": "code",
      "execution_count": null,
      "metadata": {
        "id": "8Il8I6LrnSxX",
        "outputId": "c9d20078-b959-4b65-df0a-c129750d5193"
      },
      "outputs": [
        {
          "data": {
            "text/plain": [
              "3"
            ]
          },
          "execution_count": 68,
          "metadata": {},
          "output_type": "execute_result"
        }
      ],
      "source": [
        "v_date = date(2024,3,14)\n",
        "v_date.weekday()"
      ]
    },
    {
      "cell_type": "code",
      "execution_count": null,
      "metadata": {
        "id": "o9vFlP-bnSxY"
      },
      "outputs": [],
      "source": [
        "date_ini = date(2024,5,14)"
      ]
    },
    {
      "cell_type": "code",
      "execution_count": null,
      "metadata": {
        "id": "CCHWvW6xnSxY",
        "outputId": "23747042-bac7-4e76-9204-022f423c89d1"
      },
      "outputs": [
        {
          "name": "stdout",
          "output_type": "stream",
          "text": [
            "2024-05-14\n",
            "2024-05-15\n",
            "2024-05-16\n",
            "2024-05-17\n",
            "2024-05-20\n",
            "2024-05-21\n",
            "2024-05-22\n",
            "2024-05-23\n",
            "2024-05-24\n",
            "2024-05-27\n",
            "2024-05-28\n",
            "2024-05-29\n",
            "2024-05-30\n",
            "2024-05-31\n"
          ]
        }
      ],
      "source": [
        "i = 0\n",
        "v_date = date_ini\n",
        "while v_date.month == date_ini.month:\n",
        "    if v_date.weekday() != 5 and v_date.weekday() != 6: # another way:  if v_date.weekday() not in [5,6]:\n",
        "        print(v_date)\n",
        "    i = i + 1\n",
        "    v_date = date_ini + timedelta(days=i)"
      ]
    },
    {
      "cell_type": "markdown",
      "metadata": {
        "id": "Adv_dOo4nSxY"
      },
      "source": [
        "Another way to work with loops -> list comprehension\n",
        "\n",
        "[expression for x in iterable if any_condition]"
      ]
    },
    {
      "cell_type": "code",
      "execution_count": null,
      "metadata": {
        "id": "AOFMjyAanSxY"
      },
      "outputs": [],
      "source": [
        "lis1 = [1,2,3,4,5]"
      ]
    },
    {
      "cell_type": "code",
      "execution_count": null,
      "metadata": {
        "scrolled": true,
        "id": "JK1mjkVPnSxZ",
        "outputId": "598da19b-cdde-4e41-d2fe-014504e579a1"
      },
      "outputs": [
        {
          "data": {
            "text/plain": [
              "[2, 4, 6, 8, 10]"
            ]
          },
          "execution_count": 77,
          "metadata": {},
          "output_type": "execute_result"
        }
      ],
      "source": [
        "lis2 = []\n",
        "for i in lis1:\n",
        "    lis2.append(i*2)\n",
        "lis2"
      ]
    },
    {
      "cell_type": "markdown",
      "metadata": {
        "id": "otATkLrPnSxZ"
      },
      "source": [
        "The same with a list comprehension"
      ]
    },
    {
      "cell_type": "code",
      "execution_count": null,
      "metadata": {
        "id": "fhVX-GXQnSxZ",
        "outputId": "18104038-b971-4c54-dbc1-76f71044c9d7"
      },
      "outputs": [
        {
          "data": {
            "text/plain": [
              "[2, 4, 6, 8, 10]"
            ]
          },
          "execution_count": 78,
          "metadata": {},
          "output_type": "execute_result"
        }
      ],
      "source": [
        "lis2 = [i*2 for i in lis1]\n",
        "lis2"
      ]
    },
    {
      "cell_type": "markdown",
      "metadata": {
        "id": "N6FkLYPqnSxZ"
      },
      "source": [
        "Test with larger volume of data"
      ]
    },
    {
      "cell_type": "code",
      "execution_count": null,
      "metadata": {
        "id": "blgrZAq2nSxZ"
      },
      "outputs": [],
      "source": [
        "lis1 = list(range(1,1000000))"
      ]
    },
    {
      "cell_type": "code",
      "execution_count": null,
      "metadata": {
        "scrolled": true,
        "id": "sUNG3JaHnSxa",
        "outputId": "262071e3-e77c-421b-995d-00a784ed326d"
      },
      "outputs": [
        {
          "name": "stdout",
          "output_type": "stream",
          "text": [
            "CPU times: total: 156 ms\n",
            "Wall time: 160 ms\n"
          ]
        },
        {
          "data": {
            "text/plain": [
              "[2, 4, 6, 8, 10, 12, 14, 16, 18, 20]"
            ]
          },
          "execution_count": 85,
          "metadata": {},
          "output_type": "execute_result"
        }
      ],
      "source": [
        "%%time\n",
        "lis2 = []\n",
        "for i in lis1:\n",
        "    lis2.append(i*2)\n",
        "lis2[0:10]"
      ]
    },
    {
      "cell_type": "code",
      "execution_count": null,
      "metadata": {
        "id": "1MJ1i9wwnSxa",
        "outputId": "4e8c2ca9-64d6-4407-b168-828d1d7109f2"
      },
      "outputs": [
        {
          "name": "stdout",
          "output_type": "stream",
          "text": [
            "CPU times: total: 78.1 ms\n",
            "Wall time: 78.8 ms\n"
          ]
        },
        {
          "data": {
            "text/plain": [
              "[2, 4, 6, 8, 10, 12, 14, 16, 18, 20]"
            ]
          },
          "execution_count": 86,
          "metadata": {},
          "output_type": "execute_result"
        }
      ],
      "source": [
        "%%time\n",
        "lis2 = [i*2 for i in lis1]\n",
        "lis2[0:10]"
      ]
    },
    {
      "cell_type": "code",
      "execution_count": null,
      "metadata": {
        "id": "kR7J-p6snSxa",
        "outputId": "33f5aa45-d5ed-4b35-96a3-81ffda45101f"
      },
      "outputs": [
        {
          "data": {
            "text/plain": [
              "[1, 4, 9, 16, 25, 36, 49, 64, 81, 100]"
            ]
          },
          "execution_count": 87,
          "metadata": {},
          "output_type": "execute_result"
        }
      ],
      "source": [
        "lis3 = [i*i for i in lis1]\n",
        "lis3[0:10]"
      ]
    },
    {
      "cell_type": "code",
      "execution_count": null,
      "metadata": {
        "id": "NP2ttaZznSxb",
        "outputId": "eeb86fc5-3849-49f7-a658-0ea9c6aa3310"
      },
      "outputs": [
        {
          "data": {
            "text/plain": [
              "[[1, 1],\n",
              " [2, 4],\n",
              " [3, 9],\n",
              " [4, 16],\n",
              " [5, 25],\n",
              " [6, 36],\n",
              " [7, 49],\n",
              " [8, 64],\n",
              " [9, 81],\n",
              " [10, 100]]"
            ]
          },
          "execution_count": 88,
          "metadata": {},
          "output_type": "execute_result"
        }
      ],
      "source": [
        "lis4 = [[i, i*i] for i in lis1]\n",
        "lis4[0:10]"
      ]
    },
    {
      "cell_type": "code",
      "execution_count": null,
      "metadata": {
        "id": "6Fbb4KdAnSxc",
        "outputId": "9d64c3b6-5f7f-4d1d-fc7e-e01042fd2ec0"
      },
      "outputs": [
        {
          "data": {
            "text/plain": [
              "[9, 16, 25, 36, 49, 64, 81, 100, 121, 144]"
            ]
          },
          "execution_count": 90,
          "metadata": {},
          "output_type": "execute_result"
        }
      ],
      "source": [
        "lis5 = [i*i for i in lis1 if i > 2]\n",
        "lis5[0:10]"
      ]
    }
  ],
  "metadata": {
    "kernelspec": {
      "display_name": "Python 3 (ipykernel)",
      "language": "python",
      "name": "python3"
    },
    "language_info": {
      "codemirror_mode": {
        "name": "ipython",
        "version": 3
      },
      "file_extension": ".py",
      "mimetype": "text/x-python",
      "name": "python",
      "nbconvert_exporter": "python",
      "pygments_lexer": "ipython3",
      "version": "3.10.9"
    },
    "colab": {
      "provenance": [],
      "include_colab_link": true
    }
  },
  "nbformat": 4,
  "nbformat_minor": 0
}